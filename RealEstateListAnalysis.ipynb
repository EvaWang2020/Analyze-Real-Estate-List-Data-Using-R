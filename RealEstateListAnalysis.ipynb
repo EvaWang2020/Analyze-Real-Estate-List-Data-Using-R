{
 "cells": [
  {
   "cell_type": "markdown",
   "id": "45bff9fb",
   "metadata": {},
   "source": [
    "# Introduction\n",
    "\n",
    "This repository provides guidance on utilizing R for the analysis of real estate data obtained through web scraping. The dataset comprises 5064 rows, encompassing real estate listings from numerous cities within the Metro Vancouver area as of July 20, 2021. However, due to limitations on the website, only up to 25 pages can be scraped for each city using the start URL, resulting in some lists being incomplete.\n",
    "\n",
    "For insights into the scraping methodology employed, please refer to my other repository [RealEsatelist_scrape_clean_transform][1].\n",
    "If you seek to scrape the complete list for each city in Vancouver, you may refer to [my article, which which utilizes a different website as an example][2]. However, note that this alternative source does not facilitate the extraction of land size data for houses. Nonetheless, it does allow for the extraction of list type information by adjusting the URL format and incorporating list type parameters.\n",
    "\n",
    "                                                                                 \n",
    "[1]:https://github.com/EvaWang2020/RealEsateDataAnalysis\n",
    "[2]:https://evaanalytics.wixsite.com/website/post/use-scrapy-to-real-estate-data"
   ]
  },
  {
   "cell_type": "markdown",
   "id": "8f9f0dcc",
   "metadata": {},
   "source": [
    "### A peak of some of the insights uncovered: "
   ]
  },
  {
   "cell_type": "markdown",
   "id": "165f180c",
   "metadata": {},
   "source": [
    "1) Land size has the greatest influence on list prices in Pitt Meadows, Bowen Island, and Vancouver.\n",
    "2) Land size impacts least on list prices in Port Moody, Burnaby, and Richmond.\n",
    "3) In Surrey and Langley, there appears to be a pattern where smaller apartments command higher average prices per square foot.\n",
    "4) In Vancouver, there's a trend where larger apartments tend to have a higher average price per square foot."
   ]
  },
  {
   "cell_type": "markdown",
   "id": "c5ed437c",
   "metadata": {},
   "source": [
    "### Import the dateset"
   ]
  },
  {
   "cell_type": "code",
   "execution_count": null,
   "id": "a2609c11",
   "metadata": {
    "vscode": {
     "languageId": "r"
    }
   },
   "outputs": [],
   "source": [
    "Data=read.csv(\"C://users/17789/Documents/Mentorship/RealEstateList/realestatelist_totallistappend.csv\")   \n",
    "Data$Price <- as.numeric(gsub('[$,]', '', Data$Price))\n",
    "\n",
    "# Below is a glimpse of the data structure.\n",
    "head(Data)"
   ]
  },
  {
   "cell_type": "markdown",
   "id": "5b3da783",
   "metadata": {},
   "source": [
    "### Smmary the data of each numeric column. You can see the min, max, median, and quartiles"
   ]
  },
  {
   "cell_type": "code",
   "execution_count": 112,
   "id": "5fac3603",
   "metadata": {
    "vscode": {
     "languageId": "r"
    }
   },
   "outputs": [
    {
     "data": {
      "text/plain": [
       "     Price           Bedroom_qty      Bathroom_qty      Floor_size   \n",
       " Min.   :   84800   Min.   : 0.000   Min.   : 0.000   Min.   :    0  \n",
       " 1st Qu.:  650000   1st Qu.: 2.000   1st Qu.: 2.000   1st Qu.:  896  \n",
       " Median :  998000   Median : 3.000   Median : 2.000   Median : 1388  \n",
       " Mean   : 1431451   Mean   : 3.081   Mean   : 2.639   Mean   : 1910  \n",
       " 3rd Qu.: 1650000   3rd Qu.: 4.000   3rd Qu.: 3.000   3rd Qu.: 2391  \n",
       " Max.   :46000000   Max.   :16.000   Max.   :12.000   Max.   :86250  \n",
       "                                     NA's   :66       NA's   :61     \n",
       "   Land_width        Land_depth    \n",
       " Min.   :   0.00   Min.   :   0.0  \n",
       " 1st Qu.:  49.00   1st Qu.: 104.0  \n",
       " Median :  62.00   Median : 121.0  \n",
       " Mean   :  84.96   Mean   : 164.2  \n",
       " 3rd Qu.:  75.00   3rd Qu.: 140.0  \n",
       " Max.   :3347.00   Max.   :9227.0  \n",
       " NA's   :3664      NA's   :3664    "
      ]
     },
     "metadata": {},
     "output_type": "display_data"
    }
   ],
   "source": [
    "summary(Data[, c(\"Price\", \"Bedroom_qty\", \"Bathroom_qty\", \"Floor_size\", \"Land_width\", \"Land_depth\" )])"
   ]
  },
  {
   "cell_type": "markdown",
   "id": "51b84c8b",
   "metadata": {},
   "source": [
    "### Check the list count of each city /city region"
   ]
  },
  {
   "cell_type": "code",
   "execution_count": 113,
   "id": "5570c53b",
   "metadata": {},
   "outputs": [
    {
     "data": {
      "text/plain": [
       "              City                  City_region  \n",
       " Vancouver      : 520   Coquitlam West    : 185  \n",
       " Surrey         : 511   Willoughby Heights: 174  \n",
       " Burnaby        : 501   Brighouse         : 125  \n",
       " North Vancouver: 498   Langley City      : 105  \n",
       " Richmond       : 498   Metrotown         : 100  \n",
       " Coquitlam      : 493   Downtown New West :  98  \n",
       " (Other)        :2042   (Other)           :4276  "
      ]
     },
     "metadata": {},
     "output_type": "display_data"
    }
   ],
   "source": [
    "summary(Data[, c(\"City\", \"City_region\")])"
   ]
  },
  {
   "cell_type": "markdown",
   "id": "af3602dc",
   "metadata": {},
   "source": [
    "### Calculate the average price per floor square foot by list type and city"
   ]
  },
  {
   "cell_type": "code",
   "execution_count": 114,
   "id": "1abd6404",
   "metadata": {
    "vscode": {
     "languageId": "r"
    }
   },
   "outputs": [
    {
     "data": {
      "text/html": [
       "785"
      ],
      "text/latex": [
       "785"
      ],
      "text/markdown": [
       "785"
      ],
      "text/plain": [
       "[1] 785"
      ]
     },
     "metadata": {},
     "output_type": "display_data"
    }
   ],
   "source": [
    "# Calculate the average price per floor square foot (sf)\n",
    "# Average price per square foot price = list price / floor size. floor size is not the same as land size\n",
    "Average_sf_cost = Data$Price/Data$Floor_size \n",
    "# Caluclate land size\n",
    "Landsize = (Data$Land_width)*(Data$Land_depth) \n",
    "# Add them as columns to the table Data\n",
    "Data$Average_sf_cost <- Average_sf_cost \n",
    "Data$Landsize <- Landsize\n",
    "\n",
    "\n",
    "# Ingnore the rows with missing or zero values in the column Floor_size\n",
    "Subset_Data <- filter(Data, Data$Floor_size > 0 & !is.na(Data$Floor_size) )\n",
    "\n",
    "# Calculate the average price per square foot. Any NA (missing) values should be removed before calculating the mean \n",
    "Subset_Avg_sf_price = mean(Subset_Data$Average_sf_cost, na.rm = TRUE)\n",
    "round(Subset_Avg_sf_price)"
   ]
  },
  {
   "cell_type": "code",
   "execution_count": 115,
   "id": "72e12d55",
   "metadata": {
    "vscode": {
     "languageId": "r"
    }
   },
   "outputs": [
    {
     "data": {
      "text/html": [
       "<table>\n",
       "<thead><tr><th scope=col>List_type</th><th scope=col>Avg_price</th><th scope=col>Max_price</th><th scope=col>Min_price</th><th scope=col>List_count</th></tr></thead>\n",
       "<tbody>\n",
       "\t<tr><td>Mfd/Mobile Home</td><td> 316           </td><td> 1175          </td><td>118            </td><td>  23           </td></tr>\n",
       "\t<tr><td>Recreational   </td><td> 526           </td><td>  526          </td><td>526            </td><td>   1           </td></tr>\n",
       "\t<tr><td>Townhouse      </td><td> 619           </td><td> 1863          </td><td>277            </td><td> 725           </td></tr>\n",
       "\t<tr><td>Multifamily    </td><td> 683           </td><td> 1605          </td><td>322            </td><td>  34           </td></tr>\n",
       "\t<tr><td>Duplex         </td><td> 784           </td><td> 1544          </td><td>351            </td><td>  80           </td></tr>\n",
       "\t<tr><td>House          </td><td> 815           </td><td>22565          </td><td>160            </td><td>1970           </td></tr>\n",
       "\t<tr><td>Apt/Condo      </td><td> 817           </td><td> 3284          </td><td>201            </td><td>2164           </td></tr>\n",
       "\t<tr><td>Land/Lot       </td><td>2386           </td><td> 5208          </td><td>533            </td><td>   4           </td></tr>\n",
       "</tbody>\n",
       "</table>\n"
      ],
      "text/latex": [
       "\\begin{tabular}{r|lllll}\n",
       " List\\_type & Avg\\_price & Max\\_price & Min\\_price & List\\_count\\\\\n",
       "\\hline\n",
       "\t Mfd/Mobile Home &  316            &  1175           & 118             &   23           \\\\\n",
       "\t Recreational    &  526            &   526           & 526             &    1           \\\\\n",
       "\t Townhouse       &  619            &  1863           & 277             &  725           \\\\\n",
       "\t Multifamily     &  683            &  1605           & 322             &   34           \\\\\n",
       "\t Duplex          &  784            &  1544           & 351             &   80           \\\\\n",
       "\t House           &  815            & 22565           & 160             & 1970           \\\\\n",
       "\t Apt/Condo       &  817            &  3284           & 201             & 2164           \\\\\n",
       "\t Land/Lot        & 2386            &  5208           & 533             &    4           \\\\\n",
       "\\end{tabular}\n"
      ],
      "text/markdown": [
       "\n",
       "| List_type | Avg_price | Max_price | Min_price | List_count |\n",
       "|---|---|---|---|---|\n",
       "| Mfd/Mobile Home |  316            |  1175           | 118             |   23            |\n",
       "| Recreational    |  526            |   526           | 526             |    1            |\n",
       "| Townhouse       |  619            |  1863           | 277             |  725            |\n",
       "| Multifamily     |  683            |  1605           | 322             |   34            |\n",
       "| Duplex          |  784            |  1544           | 351             |   80            |\n",
       "| House           |  815            | 22565           | 160             | 1970            |\n",
       "| Apt/Condo       |  817            |  3284           | 201             | 2164            |\n",
       "| Land/Lot        | 2386            |  5208           | 533             |    4            |\n",
       "\n"
      ],
      "text/plain": [
       "  List_type       Avg_price Max_price Min_price List_count\n",
       "1 Mfd/Mobile Home  316       1175     118         23      \n",
       "2 Recreational     526        526     526          1      \n",
       "3 Townhouse        619       1863     277        725      \n",
       "4 Multifamily      683       1605     322         34      \n",
       "5 Duplex           784       1544     351         80      \n",
       "6 House            815      22565     160       1970      \n",
       "7 Apt/Condo        817       3284     201       2164      \n",
       "8 Land/Lot        2386       5208     533          4      "
      ]
     },
     "metadata": {},
     "output_type": "display_data"
    }
   ],
   "source": [
    "# Calculate the average floor sf price by list type\n",
    "# You can add more filters, such as setting up bedroom quantity \n",
    "# Subset_Data<- filter(Subset_Data, Subset_Data$Bedroom_qty==1)\n",
    "# Subset_Data<- filter(Subset_Data, Subset_Data$Bathroom_qty==1)  \n",
    "# Subset_Data<- filter(Subset_Data, Subset_Data$City=='Vancouver')  \n",
    "\n",
    "\n",
    "# %>% is a pipe operator\n",
    "ex1 <- Subset_Data %>% \n",
    "  group_by(List_type) %>% \n",
    "  summarize(Avg_price = round(mean(Average_sf_cost,na.rm = TRUE)), \n",
    "            Max_price = round(max(Average_sf_cost,na.rm = TRUE)),\n",
    "            Min_price = round(min(Average_sf_cost,na.rm = TRUE)),\n",
    "            List_count = length(Price))\n",
    "ex1  %>%\n",
    "    arrange(Avg_price)"
   ]
  },
  {
   "cell_type": "markdown",
   "id": "d2766bd6",
   "metadata": {},
   "source": [
    "### Calculate the average price per square foot by city for apartments"
   ]
  },
  {
   "cell_type": "code",
   "execution_count": 116,
   "id": "18e81983",
   "metadata": {
    "vscode": {
     "languageId": "r"
    }
   },
   "outputs": [
    {
     "data": {
      "image/png": "[encoded data removed]",
      "text/plain": [
       "plot without title"
      ]
     },
     "metadata": {},
     "output_type": "display_data"
    }
   ],
   "source": [
    "# Create a function to calculate the average price per square foot by city for apartment\n",
    "# Install the ggplot2 library if you have not\n",
    "# install.packages(\"ggplot2\", repos = \"https://cloud.r-project.org/\")\n",
    "library(ggplot2)\n",
    "\n",
    "Subset_Data <- filter(Subset_Data, Subset_Data$List_type == 'Apt/Condo')\n",
    "# You can add more filters, such as setting up bedroom quantity \n",
    "# Subset_Data <- filter(Subset_Data, Subset_Data$Bedroom_qty == 1)\n",
    "# Subset_Data <- filter(Subset_Data, Subset_Data$Bathroom_qty == 1)  \n",
    "\n",
    "ex1<-Subset_Data %>% \n",
    "    group_by(City) %>% \n",
    "    summarize(Avg_price = mean(Average_sf_cost, na.rm = TRUE), List_Count = length(Price) ) \n",
    "\n",
    "# Reorder City based on Avg_price from high to low\n",
    "ex1$City <- factor(ex1$City, levels = ex1$City[order(ex1$Avg_price, decreasing = FALSE)])\n",
    "\n",
    "options(repr.plot.width=6, repr.plot.height=4)\n",
    "ggplot(ex1, aes(y = City, x = Avg_price, Color = City,fill=City)) +\n",
    "    geom_bar(stat = \"identity\", width = 0.4, show.legend = FALSE) + \n",
    "    theme_classic() + \n",
    "    #scale_x_reordered() +\n",
    "    labs(\n",
    "        y = \"City\",\n",
    "        x = \"Price (CAD)\",\n",
    "        title = paste(\n",
    "            \"Average Price Per Square Foot\"\n",
    "     )\n",
    "    )\n"
   ]
  },
  {
   "cell_type": "markdown",
   "id": "8c8e17c6",
   "metadata": {},
   "source": [
    "### Calculate the frequency/list count for houses and apartments based on average square foot price"
   ]
  },
  {
   "cell_type": "code",
   "execution_count": 117,
   "id": "9105c4aa",
   "metadata": {
    "vscode": {
     "languageId": "r"
    }
   },
   "outputs": [
    {
     "data": {
      "image/png": "[encoded data removed]",
      "text/plain": [
       "Plot with title \"Frequency of House Average Price Per Square Foot\""
      ]
     },
     "metadata": {},
     "output_type": "display_data"
    }
   ],
   "source": [
    "# Plot the frequency of each average price for house only\n",
    "Subset_Data<- filter(Data, Data$Floor_size>0 & !is.na(Data$Floor_size) )\n",
    "Subset_Data <- filter(Subset_Data, Subset_Data$List_type == 'House')\n",
    "\n",
    "# You can add more filters, such as setting up specific city/cities\n",
    "# Subset_Data <- filter(Subset_Data, Subset_Data$City == 'Vancouver')  \n",
    "\n",
    "data = hist(Subset_Data$Average_sf_cost, plot = FALSE, breaks = 12)  \n",
    "ymax = max(data[[2]])  # to find the maxium number of Y axis based on type 2 data of a vector\n",
    "options(repr.plot.width = 6, repr.plot.height = 4)\n",
    "plot(data[[4]],\n",
    "     data[[2]], \n",
    "     type='o',\n",
    "     ylab = \"Frequency / List Count\", \n",
    "     xlab = \"Price (CAD)\", \n",
    "     main = \"Frequency of House Average Price Per Square Foot\", \n",
    "     frame.plot = 'TRUE', \n",
    "     axes = FALSE, \n",
    "     ylim = c(0,ymax+1), \n",
    "     col = \"red\")  \n",
    "# ylim is the function to limit the value of Y axis \n",
    "\n",
    "axis(1,data[[4]])\n",
    "axis(2)\n"
   ]
  },
  {
   "cell_type": "code",
   "execution_count": 118,
   "id": "d92df160",
   "metadata": {
    "vscode": {
     "languageId": "r"
    }
   },
   "outputs": [
    {
     "data": {
      "image/png": "[encoded data removed]",
      "text/plain": [
       "Plot with title \"Frequency of Apartment Average Price Per Square Foot\""
      ]
     },
     "metadata": {},
     "output_type": "display_data"
    }
   ],
   "source": [
    "# Plot the frequency of each average price for apartment only\n",
    "Subset_Data1 <- filter(Subset_Data1,  Subset_Data1$List_type == 'Apt/Condo')\n",
    "\n",
    "# You can add more filters, such as setting up specific city/cities\n",
    "# Subset_Data1 <- filter(Subset_Data1, Subset_Data1$City == 'Vancouver')  \n",
    "\n",
    "\n",
    "data=hist(Subset_Data1$Average_sf_cost,plot=FALSE,breaks=12)  \n",
    "ymax=max(data[[2]])  # to find the max number of Y axis based on type 2 data of a vector\n",
    "options(repr.plot.width=6, repr.plot.height = 4)\n",
    "plot(data[[4]],\n",
    "     data[[2]], \n",
    "     type='o',\n",
    "     ylab = \"Frequency / List Count\", \n",
    "     xlab=\"Price (CAD)\", \n",
    "     main = \"Frequency of Apartment Average Price Per Square Foot\", \n",
    "     frame.plot = 'TRUE', \n",
    "     axes = FALSE, \n",
    "     ylim = c(0,ymax+1),col = \"blue\")  \n",
    "\n",
    "axis(1,data[[4]])\n",
    "axis(2)"
   ]
  },
  {
   "cell_type": "code",
   "execution_count": 119,
   "id": "d3fd26c3",
   "metadata": {
    "vscode": {
     "languageId": "r"
    }
   },
   "outputs": [
    {
     "data": {
      "image/png": "[encoded data removed]",
      "text/plain": [
       "Plot with title \"Average Price Per Square Foot in Selected Area\""
      ]
     },
     "metadata": {},
     "output_type": "display_data"
    }
   ],
   "source": [
    "# Zoom in to check the frequency of average square foot price for specif areas\n",
    "Subset_Data<- filter(Data, Data$Floor_size>0 & !is.na(Data$Floor_size) )\n",
    "Subset_Data <- filter(Subset_Data,  Subset_Data$List_type == 'Apt/Condo')\n",
    "\n",
    "Subset_Data <- filter(Subset_Data,  Subset_Data$City_region == 'Downtown West' |  Subset_Data$City_region == 'Coal Harbour' |  Subset_Data$City_region == 'Cambie' | Subset_Data$City_region == 'Yaletown')\n",
    "\n",
    "\n",
    "hist(Subset_Data$Average_sf_cost,\n",
    "     main = \"Average Price Per Square Foot in Selected Area\", \n",
    "     xlab = \"Price (CAD) \", \n",
    "     border = \"blue\", \n",
    "     col = \"yellow\",\n",
    "     xlim = c(500,1800),\n",
    "     las = 1,\n",
    "     breaks = 30 )\n"
   ]
  },
  {
   "cell_type": "markdown",
   "id": "7e3c90f6",
   "metadata": {},
   "source": [
    "### Calculate the correlation between different variables of Metro Vancouver houses by city"
   ]
  },
  {
   "cell_type": "code",
   "execution_count": 120,
   "id": "fc5b5edc",
   "metadata": {
    "scrolled": false,
    "vscode": {
     "languageId": "r"
    }
   },
   "outputs": [
    {
     "name": "stdout",
     "output_type": "stream",
     "text": [
      "[1] \"Correlation Matrix of Housing Characteristics in Vancouver\"\n",
      "         x        y       z       l       m\n",
      "x  1.00000 -0.20501 0.00929 0.12361 0.39713\n",
      "y -0.20501  1.00000 0.68523 0.51877 0.12949\n",
      "z  0.00929  0.68523 1.00000 0.73558 0.39265\n",
      "l  0.12361  0.51877 0.73558 1.00000 0.67532\n",
      "m  0.39713  0.12949 0.39265 0.67532 1.00000\n",
      "[1] \"--------------------------------------------------------\"\n",
      "[1] \"Correlation Matrix of Housing Characteristics in Langley\"\n",
      "         x        y        z        l        m\n",
      "x  1.00000 -0.35265 -0.37316 -0.25582  0.53029\n",
      "y -0.35265  1.00000  0.75735  0.55986  0.00751\n",
      "z -0.37316  0.75735  1.00000  0.78102 -0.05277\n",
      "l -0.25582  0.55986  0.78102  1.00000  0.15699\n",
      "m  0.53029  0.00751 -0.05277  0.15699  1.00000\n",
      "[1] \"--------------------------------------------------------\"\n",
      "[1] \"Correlation Matrix of Housing Characteristics in North Vancouver\"\n",
      "         x        y        z        l       m\n",
      "x  1.00000 -0.27354 -0.31904 -0.44250 0.06243\n",
      "y -0.27354  1.00000  0.68586  0.66453 0.23762\n",
      "z -0.31904  0.68586  1.00000  0.85913 0.21338\n",
      "l -0.44250  0.66453  0.85913  1.00000 0.19083\n",
      "m  0.06243  0.23762  0.21338  0.19083 1.00000\n",
      "[1] \"--------------------------------------------------------\"\n",
      "[1] \"Correlation Matrix of Housing Characteristics in Richmond\"\n",
      "         x        y        z        l       m\n",
      "x  1.00000 -0.19968 -0.16357 -0.07772 0.00092\n",
      "y -0.19968  1.00000  0.59397  0.52311 0.02755\n",
      "z -0.16357  0.59397  1.00000  0.71028 0.02315\n",
      "l -0.07772  0.52311  0.71028  1.00000 0.28391\n",
      "m  0.00092  0.02755  0.02315  0.28391 1.00000\n",
      "[1] \"--------------------------------------------------------\"\n",
      "[1] \"Correlation Matrix of Housing Characteristics in Maple Ridge\"\n",
      "         x        y        z        l        m\n",
      "x  1.00000 -0.51007 -0.52485 -0.47427  0.40873\n",
      "y -0.51007  1.00000  0.73593  0.69892 -0.18175\n",
      "z -0.52485  0.73593  1.00000  0.87304 -0.10526\n",
      "l -0.47427  0.69892  0.87304  1.00000  0.03580\n",
      "m  0.40873 -0.18175 -0.10526  0.03580  1.00000\n",
      "[1] \"--------------------------------------------------------\"\n",
      "[1] \"Correlation Matrix of Housing Characteristics in New Westminster\"\n",
      "         x        y        z        l        m\n",
      "x  1.00000 -0.12565 -0.37746 -0.50060  0.51586\n",
      "y -0.12565  1.00000  0.60392  0.50935  0.01086\n",
      "z -0.37746  0.60392  1.00000  0.71458 -0.16466\n",
      "l -0.50060  0.50935  0.71458  1.00000  0.11466\n",
      "m  0.51586  0.01086 -0.16466  0.11466  1.00000\n",
      "[1] \"--------------------------------------------------------\"\n",
      "[1] \"Correlation Matrix of Housing Characteristics in Pitt Meadows\"\n",
      "         x        y        z        l       m\n",
      "x  1.00000 -0.71830 -0.60621 -0.74087 0.16551\n",
      "y -0.71830  1.00000  0.93495  0.86164 0.16649\n",
      "z -0.60621  0.93495  1.00000  0.75111 0.09212\n",
      "l -0.74087  0.86164  0.75111  1.00000 0.48764\n",
      "m  0.16551  0.16649  0.09212  0.48764 1.00000\n",
      "[1] \"--------------------------------------------------------\"\n",
      "[1] \"Correlation Matrix of Housing Characteristics in Delta\"\n",
      "         x        y        z        l        m\n",
      "x  1.00000 -0.33267 -0.26622 -0.24558  0.50397\n",
      "y -0.33267  1.00000  0.69128  0.62662 -0.04598\n",
      "z -0.26622  0.69128  1.00000  0.83393  0.00465\n",
      "l -0.24558  0.62662  0.83393  1.00000  0.05143\n",
      "m  0.50397 -0.04598  0.00465  0.05143  1.00000\n",
      "[1] \"--------------------------------------------------------\"\n",
      "[1] \"Correlation Matrix of Housing Characteristics in Coquitlam\"\n",
      "         x        y        z        l        m\n",
      "x  1.00000 -0.50350 -0.54214 -0.53287  0.12507\n",
      "y -0.50350  1.00000  0.75315  0.68239 -0.00368\n",
      "z -0.54214  0.75315  1.00000  0.86315  0.08631\n",
      "l -0.53287  0.68239  0.86315  1.00000  0.11066\n",
      "m  0.12507 -0.00368  0.08631  0.11066  1.00000\n",
      "[1] \"--------------------------------------------------------\"\n",
      "[1] \"Correlation Matrix of Housing Characteristics in Burnaby\"\n",
      "         x        y        z        l        m\n",
      "x  1.00000 -0.46694 -0.35172 -0.60439 -0.10395\n",
      "y -0.46694  1.00000  0.75532  0.72696  0.09274\n",
      "z -0.35172  0.75532  1.00000  0.76423  0.04030\n",
      "l -0.60439  0.72696  0.76423  1.00000  0.20517\n",
      "m -0.10395  0.09274  0.04030  0.20517  1.00000\n",
      "[1] \"--------------------------------------------------------\"\n",
      "[1] \"Correlation Matrix of Housing Characteristics in Bowen Island\"\n",
      "         x        y        z        l       m\n",
      "x  1.00000 -0.15856 -0.47378 -0.27322 0.16572\n",
      "y -0.15856  1.00000  0.67791  0.65559 0.18987\n",
      "z -0.47378  0.67791  1.00000  0.92264 0.52497\n",
      "l -0.27322  0.65559  0.92264  1.00000 0.74791\n",
      "m  0.16572  0.18987  0.52497  0.74791 1.00000\n",
      "[1] \"--------------------------------------------------------\"\n",
      "[1] \"Correlation Matrix of Housing Characteristics in Surrey\"\n",
      "         x        y        z        l        m\n",
      "x  1.00000 -0.33105 -0.31422 -0.22596  0.59243\n",
      "y -0.33105  1.00000  0.83104  0.71978 -0.04084\n",
      "z -0.31422  0.83104  1.00000  0.84204  0.01143\n",
      "l -0.22596  0.71978  0.84204  1.00000  0.20537\n",
      "m  0.59243 -0.04084  0.01143  0.20537  1.00000\n",
      "[1] \"--------------------------------------------------------\"\n",
      "[1] \"Correlation Matrix of Housing Characteristics in Port Moody\"\n",
      "         x        y        z        l        m\n",
      "x  1.00000 -0.34644 -0.40240 -0.36729  0.15121\n",
      "y -0.34644  1.00000  0.56347  0.46071  0.12263\n",
      "z -0.40240  0.56347  1.00000  0.86957 -0.04429\n",
      "l -0.36729  0.46071  0.86957  1.00000 -0.04644\n",
      "m  0.15121  0.12263 -0.04429 -0.04644  1.00000\n",
      "[1] \"--------------------------------------------------------\"\n",
      "[1] \"Correlation Matrix of Housing Characteristics in Port Coquitlam\"\n",
      "         x        y        z        l        m\n",
      "x  1.00000 -0.56148 -0.52763 -0.56012  0.16259\n",
      "y -0.56148  1.00000  0.79705  0.74018 -0.02441\n",
      "z -0.52763  0.79705  1.00000  0.86535  0.27300\n",
      "l -0.56012  0.74018  0.86535  1.00000  0.41347\n",
      "m  0.16259 -0.02441  0.27300  0.41347  1.00000\n",
      "[1] \"--------------------------------------------------------\"\n"
     ]
    }
   ],
   "source": [
    "# Some house listings lack land size values due to missing dimensions\n",
    "# Consequently, after multiple layers of filtering, the total count of listings is smaller than the actual total count\n",
    "Array = unique(Data$City, incomparables = FALSE)\n",
    "n=length(Array)\n",
    "for(i in 1:n ){\n",
    "  A = Array[i]\n",
    "\n",
    "  Subset_Data <- filter(Data, Data$Floor_size>0 & !is.na(Data$Floor_size) )\n",
    "  Subset_Data <- filter(Subset_Data, !is.na(Subset_Data$Landsize))\n",
    "  Subset_Data <- filter(Subset_Data, !is.na(Subset_Data$Bedroom_qty))\n",
    "  Subset_Data <- filter(Subset_Data, !is.na(Subset_Data$Bathroom_qty))\n",
    "  Subset_Data <- filter(Subset_Data, !is.na(Subset_Data$Landsize))  \n",
    "  Subset_Data <- filter(Subset_Data, Subset_Data$List_type == 'House')\n",
    "  Subset_Data <- filter(Subset_Data, Subset_Data$City == A)\n",
    "  \n",
    "  x = Subset_Data$Average_sf_cost\n",
    "  y = Subset_Data$Bedroom_qty\n",
    "  z = Subset_Data$Bathroom_qty\n",
    "  l = Subset_Data$Floor_size\n",
    "  m = Subset_Data$Landsize\n",
    "   \n",
    "  X = cbind(x,y,z,l,m)  \n",
    "  print(paste('Correlation Matrix of Housing Characteristics in', A))\n",
    "  print(round(cor(X),5))\n",
    "  print('--------------------------------------------------------')\n",
    "}\n"
   ]
  },
  {
   "cell_type": "markdown",
   "id": "7d7097e3",
   "metadata": {},
   "source": [
    "### Utilize the correlation matrix of Richmond and Vancouver as examples to explain how to interpret the analysis"
   ]
  },
  {
   "cell_type": "markdown",
   "id": "5900e41b",
   "metadata": {},
   "source": [
    "### Example 1"
   ]
  },
  {
   "cell_type": "markdown",
   "id": "1d0a7db2",
   "metadata": {},
   "source": [
    "[1] \"Correlation Matrix of Housing Characteristics in Richmond\"\n",
    "         x        y        z        l       m\n",
    "x  1.00000 -0.19968 -0.16357 -0.07772 0.00092\n",
    "y -0.19968  1.00000  0.59397  0.52311 0.02755\n",
    "z -0.16357  0.59397  1.00000  0.71028 0.02315\n",
    "l -0.07772  0.52311  0.71028  1.00000 0.28391\n",
    "m  0.00092  0.02755  0.02315  0.28391 1.00000"
   ]
  },
  {
   "cell_type": "markdown",
   "id": "ff82dadd",
   "metadata": {},
   "source": [
    "- __x represents average price per square foot__\n",
    "- __y represents average bedroom quantity__\n",
    "- __z represents average bathroom quantity__ \n",
    "- __l represents average floor size__ \n",
    "- __m represents average land size__ \n",
    "\n",
    "\n",
    ">In examining the relationship between the average price per square foot (denoted as 'x') and the average land size (denoted as 'm') in Richmond, the correlation coefficient is calculated to be 0.00092. While this coefficient still denotes a positive correlation, its low magnitude suggests a notably weak relationship between the average price per square foot and land size.\n",
    ">This weak correlation implies that  __<span style=\"color:red\"> variations in land size have only a minimal impact on the average square foot price of houses in Richmond</span>.__  Other factors beyond land size likely play a more significant role in determining property prices in this area. Consequently, while land size may influence prices to some extent, its contribution appears to be negligible when compared to other influential factors within the Richmond housing market.\n",
    "\n"
   ]
  },
  {
   "cell_type": "markdown",
   "id": "4f2bf6eb",
   "metadata": {},
   "source": [
    "### Example 2"
   ]
  },
  {
   "cell_type": "markdown",
   "id": "e4cbb5e3",
   "metadata": {},
   "source": [
    "[1] \"Correlation Matrix of Housing Characteristics in Vancouver\"\n",
    "         x        y       z       l       m\n",
    "x  1.00000 -0.20501 0.00929 0.12361 0.39713\n",
    "y -0.20501  1.00000 0.68523 0.51877 0.12949\n",
    "z  0.00929  0.68523 1.00000 0.73558 0.39265\n",
    "l  0.12361  0.51877 0.73558 1.00000 0.67532\n",
    "m  0.39713  0.12949 0.39265 0.67532 1.00000"
   ]
  },
  {
   "cell_type": "markdown",
   "id": "f2a1ec0c",
   "metadata": {},
   "source": [
    "- __x represents average price per square foot__\n",
    "- __y represents average bedroom quantity__\n",
    "- __z represents average bathroom quantity__ \n",
    "- __l represents average floor size__ \n",
    "- __m represents average land size__ \n",
    "\n",
    "\n",
    "\n",
    "\n",
    ">Between the average price per square foot (denoted as 'x') and the average land size (denoted as 'm') in Vancouver, the correlation coefficient is 0.39713, which is much bigger when compared with that of Richmond. This suggests that __<span style=\"color:red\"> larger land sizes are associated with higher average square foot prices of houses in Vancouver</span>__. This relationship likely stems from the fact that larger plots often accommodate more substantial or luxurious properties, which inherently command higher prices in the market.\n",
    ">The significance of land size in determining property values in Vancouver cannot be overstated."
   ]
  },
  {
   "cell_type": "markdown",
   "id": "6020d891",
   "metadata": {},
   "source": [
    "### Calculate the correlation between housing list price and land size"
   ]
  },
  {
   "cell_type": "code",
   "execution_count": 121,
   "id": "e7d624f6",
   "metadata": {},
   "outputs": [
    {
     "name": "stdout",
     "output_type": "stream",
     "text": [
      "[1] \"Correlation Matrix of Housing List Price and Land Size in Vancouver\"\n",
      "        p       m\n",
      "p 1.00000 0.81494\n",
      "m 0.81494 1.00000\n",
      "[1] \"--------------------------------------------------------\"\n",
      "[1] \"Correlation Matrix of Housing List Price and Land Size in Langley\"\n",
      "        p       m\n",
      "p 1.00000 0.76568\n",
      "m 0.76568 1.00000\n",
      "[1] \"--------------------------------------------------------\"\n",
      "[1] \"Correlation Matrix of Housing List Price and Land Size in North Vancouver\"\n",
      "        p       m\n",
      "p 1.00000 0.26371\n",
      "m 0.26371 1.00000\n",
      "[1] \"--------------------------------------------------------\"\n",
      "[1] \"Correlation Matrix of Housing List Price and Land Size in Richmond\"\n",
      "       p      m\n",
      "p 1.0000 0.2325\n",
      "m 0.2325 1.0000\n",
      "[1] \"--------------------------------------------------------\"\n",
      "[1] \"Correlation Matrix of Housing List Price and Land Size in Maple Ridge\"\n",
      "      p     m\n",
      "p 1.000 0.493\n",
      "m 0.493 1.000\n",
      "[1] \"--------------------------------------------------------\"\n",
      "[1] \"Correlation Matrix of Housing List Price and Land Size in New Westminster\"\n",
      "        p       m\n",
      "p 1.00000 0.68885\n",
      "m 0.68885 1.00000\n",
      "[1] \"--------------------------------------------------------\"\n",
      "[1] \"Correlation Matrix of Housing List Price and Land Size in Pitt Meadows\"\n",
      "        p       m\n",
      "p 1.00000 0.93978\n",
      "m 0.93978 1.00000\n",
      "[1] \"--------------------------------------------------------\"\n",
      "[1] \"Correlation Matrix of Housing List Price and Land Size in Delta\"\n",
      "        p       m\n",
      "p 1.00000 0.54468\n",
      "m 0.54468 1.00000\n",
      "[1] \"--------------------------------------------------------\"\n",
      "[1] \"Correlation Matrix of Housing List Price and Land Size in Coquitlam\"\n",
      "        p       m\n",
      "p 1.00000 0.35946\n",
      "m 0.35946 1.00000\n",
      "[1] \"--------------------------------------------------------\"\n",
      "[1] \"Correlation Matrix of Housing List Price and Land Size in Burnaby\"\n",
      "        p       m\n",
      "p 1.00000 0.19839\n",
      "m 0.19839 1.00000\n",
      "[1] \"--------------------------------------------------------\"\n",
      "[1] \"Correlation Matrix of Housing List Price and Land Size in Bowen Island\"\n",
      "        p       m\n",
      "p 1.00000 0.82683\n",
      "m 0.82683 1.00000\n",
      "[1] \"--------------------------------------------------------\"\n",
      "[1] \"Correlation Matrix of Housing List Price and Land Size in Surrey\"\n",
      "        p       m\n",
      "p 1.00000 0.73678\n",
      "m 0.73678 1.00000\n",
      "[1] \"--------------------------------------------------------\"\n",
      "[1] \"Correlation Matrix of Housing List Price and Land Size in Port Moody\"\n",
      "        p       m\n",
      "p 1.00000 0.05306\n",
      "m 0.05306 1.00000\n",
      "[1] \"--------------------------------------------------------\"\n",
      "[1] \"Correlation Matrix of Housing List Price and Land Size in Port Coquitlam\"\n",
      "        p       m\n",
      "p 1.00000 0.77597\n",
      "m 0.77597 1.00000\n",
      "[1] \"--------------------------------------------------------\"\n"
     ]
    }
   ],
   "source": [
    "Array = unique(Data$City, incomparables = FALSE)\n",
    "n=length(Array)\n",
    "for(i in 1:n ){\n",
    "  A = Array[i]\n",
    "\n",
    "  Subset_Data <- filter(Data, Data$Floor_size>0 & !is.na(Data$Floor_size) )\n",
    "  Subset_Data <- filter(Subset_Data, !is.na(Subset_Data$Landsize))\n",
    "  Subset_Data <- filter(Subset_Data, !is.na(Subset_Data$Bedroom_qty))\n",
    "  Subset_Data <- filter(Subset_Data, !is.na(Subset_Data$Bathroom_qty))\n",
    "  Subset_Data <- filter(Subset_Data, !is.na(Subset_Data$Landsize))  \n",
    "  Subset_Data <- filter(Subset_Data, Subset_Data$List_type == 'House')\n",
    "  Subset_Data <- filter(Subset_Data, Subset_Data$City == A)\n",
    "  \n",
    "  p = Subset_Data$Price\n",
    "  m =Subset_Data$Landsize\n",
    "   \n",
    "  X = cbind(p,m)  \n",
    "  print(paste('Correlation Matrix of Housing List Price and Land Size in', A))\n",
    "  print(round(cor(X),5))\n",
    "  print('--------------------------------------------------------')\n",
    "}"
   ]
  },
  {
   "cell_type": "markdown",
   "id": "8787dd90",
   "metadata": {},
   "source": [
    "#### Insights from the correlation output reveal that:\n",
    "\n",
    ">__<span style=\"color:red\">1) land size has the greatest influence on list prices in Pitt Meadows (coefficient: 0.93978), Bowen Island (coefficient: 0.82683), and Vancouver (coefficient: 0.81494)</span>__. \n",
    "\n",
    ">__<span style=\"color:red\">2) The impact of land size on list prices is minimal in Port Moody (coefficient: 0.05306), Burnaby (coefficient: 0.19839), and Richmond (coefficient: 0.2325).</span>__\n",
    "\n",
    "\n",
    "Empirical evidence and real estate analyses consistently highlight the pivotal role that land size plays in driving up average square foot prices in Vancouver. Therefore, it's evident that the __<span style=\"color:red\">intrinsic value of land holds much greater weight in Vancouver's housing market compared to Richmond</span>__, profoundly influencing property prices."
   ]
  },
  {
   "cell_type": "markdown",
   "id": "911ce3e9",
   "metadata": {},
   "source": [
    "### Calculate the correlation between different variables for Metro Vancouver apartments by city"
   ]
  },
  {
   "cell_type": "code",
   "execution_count": 123,
   "id": "b6412451",
   "metadata": {
    "vscode": {
     "languageId": "r"
    }
   },
   "outputs": [
    {
     "name": "stdout",
     "output_type": "stream",
     "text": [
      "[1] \"Correlation Matrix of Apartment Characteristics in Vancouver\"\n",
      "        x       y       z       l\n",
      "x 1.00000 0.30241 0.38590 0.40166\n",
      "y 0.30241 1.00000 0.77728 0.68787\n",
      "z 0.38590 0.77728 1.00000 0.79829\n",
      "l 0.40166 0.68787 0.79829 1.00000\n",
      "[1] \"--------------------------------------------------------\"\n",
      "[1] \"Correlation Matrix of Apartment Characteristics in Langley\"\n",
      "         x        y        z        l\n",
      "x  1.00000 -0.16166 -0.07615 -0.26667\n",
      "y -0.16166  1.00000  0.58518  0.68132\n",
      "z -0.07615  0.58518  1.00000  0.63153\n",
      "l -0.26667  0.68132  0.63153  1.00000\n",
      "[1] \"--------------------------------------------------------\"\n",
      "[1] \"Correlation Matrix of Apartment Characteristics in North Vancouver\"\n",
      "        x       y       z       l\n",
      "x 1.00000 0.35419 0.44915 0.45605\n",
      "y 0.35419 1.00000 0.79046 0.74226\n",
      "z 0.44915 0.79046 1.00000 0.77357\n",
      "l 0.45605 0.74226 0.77357 1.00000\n",
      "[1] \"--------------------------------------------------------\"\n",
      "[1] \"Correlation Matrix of Apartment Characteristics in Richmond\"\n",
      "         x        y       z        l\n",
      "x  1.00000 -0.01414 0.14269 -0.05320\n",
      "y -0.01414  1.00000 0.63662  0.70737\n",
      "z  0.14269  0.63662 1.00000  0.73028\n",
      "l -0.05320  0.70737 0.73028  1.00000\n",
      "[1] \"--------------------------------------------------------\"\n",
      "[1] \"Correlation Matrix of Apartment Characteristics in Maple Ridge\"\n",
      "         x        y        z        l\n",
      "x  1.00000 -0.38656 -0.32556 -0.52796\n",
      "y -0.38656  1.00000  0.82673  0.69226\n",
      "z -0.32556  0.82673  1.00000  0.79272\n",
      "l -0.52796  0.69226  0.79272  1.00000\n",
      "[1] \"--------------------------------------------------------\"\n",
      "[1] \"Correlation Matrix of Apartment Characteristics in New Westminster\"\n",
      "         x       y       z        l\n",
      "x  1.00000 0.00086 0.08122 -0.17081\n",
      "y  0.00086 1.00000 0.70511  0.69049\n",
      "z  0.08122 0.70511 1.00000  0.63087\n",
      "l -0.17081 0.69049 0.63087  1.00000\n",
      "[1] \"--------------------------------------------------------\"\n",
      "[1] \"Correlation Matrix of Apartment Characteristics in Pitt Meadows\"\n",
      "         x        y        z        l\n",
      "x  1.00000 -0.77518 -0.72782 -0.98084\n",
      "y -0.77518  1.00000  0.91766  0.86039\n",
      "z -0.72782  0.91766  1.00000  0.80629\n",
      "l -0.98084  0.86039  0.80629  1.00000\n",
      "[1] \"--------------------------------------------------------\"\n",
      "[1] \"Correlation Matrix of Apartment Characteristics in Delta\"\n",
      "         x        y        z        l\n",
      "x  1.00000 -0.14781 -0.04687 -0.47688\n",
      "y -0.14781  1.00000  0.71254  0.56998\n",
      "z -0.04687  0.71254  1.00000  0.63876\n",
      "l -0.47688  0.56998  0.63876  1.00000\n",
      "[1] \"--------------------------------------------------------\"\n",
      "[1] \"Correlation Matrix of Apartment Characteristics in Coquitlam\"\n",
      "         x        y        z        l\n",
      "x  1.00000 -0.16786 -0.17110 -0.29834\n",
      "y -0.16786  1.00000  0.76441  0.76908\n",
      "z -0.17110  0.76441  1.00000  0.71279\n",
      "l -0.29834  0.76908  0.71279  1.00000\n",
      "[1] \"--------------------------------------------------------\"\n",
      "[1] \"Correlation Matrix of Apartment Characteristics in Burnaby\"\n",
      "         x        y       z        l\n",
      "x  1.00000 -0.08794 0.13120 -0.21008\n",
      "y -0.08794  1.00000 0.78702  0.67917\n",
      "z  0.13120  0.78702 1.00000  0.55581\n",
      "l -0.21008  0.67917 0.55581  1.00000\n",
      "[1] \"--------------------------------------------------------\"\n",
      "[1] \"Correlation Matrix of Apartment Characteristics in Bowen Island\"\n",
      "   x  y  z  l\n",
      "x NA NA NA NA\n",
      "y NA NA NA NA\n",
      "z NA NA NA NA\n",
      "l NA NA NA NA\n",
      "[1] \"--------------------------------------------------------\"\n",
      "[1] \"Correlation Matrix of Apartment Characteristics in Surrey\"\n",
      "         x        y       z        l\n",
      "x  1.00000 -0.14714 0.05086 -0.15118\n",
      "y -0.14714  1.00000 0.69331  0.64490\n",
      "z  0.05086  0.69331 1.00000  0.73708\n",
      "l -0.15118  0.64490 0.73708  1.00000\n",
      "[1] \"--------------------------------------------------------\"\n",
      "[1] \"Correlation Matrix of Apartment Characteristics in Port Moody\"\n",
      "         x        y        z        l\n",
      "x  1.00000 -0.19532 -0.16657 -0.10362\n",
      "y -0.19532  1.00000  0.89048  0.75312\n",
      "z -0.16657  0.89048  1.00000  0.73149\n",
      "l -0.10362  0.75312  0.73149  1.00000\n",
      "[1] \"--------------------------------------------------------\"\n",
      "[1] \"Correlation Matrix of Apartment Characteristics in Port Coquitlam\"\n",
      "         x        y        z        l\n",
      "x  1.00000 -0.37499 -0.29274 -0.51142\n",
      "y -0.37499  1.00000  0.75202  0.58468\n",
      "z -0.29274  0.75202  1.00000  0.68930\n",
      "l -0.51142  0.58468  0.68930  1.00000\n",
      "[1] \"--------------------------------------------------------\"\n"
     ]
    }
   ],
   "source": [
    "Array=unique(Data$City, incomparables = FALSE)\n",
    "n=length(Array)\n",
    "for(i in 1:n ){\n",
    "  A = Array[i]\n",
    "  \n",
    "  Subset_Data <- filter(Data, Data$Floor_size>0 & !is.na(Data$Floor_size) )\n",
    "  Subset_Data <- filter(Subset_Data, !is.na(Subset_Data$Bedroom_qty))\n",
    "  Subset_Data <- filter(Subset_Data, !is.na(Subset_Data$Bathroom_qty))\n",
    "  Subset_Data <- filter(Subset_Data, Subset_Data$List_type=='Apt/Condo')\n",
    "  Subset_Data <- filter(Subset_Data, Subset_Data$City==A)\n",
    "  \n",
    "  x = Subset_Data$Average_sf_cost\n",
    "  y = Subset_Data$Bedroom_qty\n",
    "  z = Subset_Data$Bathroom_qty\n",
    "  l = Subset_Data$Floor_size\n",
    "   \n",
    "  X=cbind(x,y,z,l)  \n",
    "  print(paste('Correlation Matrix of Apartment Characteristics in', A))\n",
    "  print(round(cor(X),5))\n",
    "  print('--------------------------------------------------------')\n",
    "}"
   ]
  },
  {
   "cell_type": "markdown",
   "id": "49992900",
   "metadata": {},
   "source": [
    "### Pick Langley as an example to explain the above correlation output"
   ]
  },
  {
   "cell_type": "markdown",
   "id": "05a7d055",
   "metadata": {
    "vscode": {
     "languageId": "r"
    }
   },
   "source": [
    "[1] \"Correlation Matrix of Apartment Characteristics in Langley\"\n",
    "         x        y        z        l\n",
    "x  1.00000 -0.16166 -0.07615 -0.26667\n",
    "y -0.16166  1.00000  0.58518  0.68132\n",
    "z -0.07615  0.58518  1.00000  0.63153\n",
    "l -0.26667  0.68132  0.63153  1.00000"
   ]
  },
  {
   "cell_type": "markdown",
   "id": "0a1a18b6",
   "metadata": {},
   "source": [
    "- __x represents average price per square foot__\n",
    "- __y represents average bedroom quantity__\n",
    "- __z represents average bathroom quantity__ \n",
    "- __l represents average floor size__ "
   ]
  },
  {
   "cell_type": "markdown",
   "id": "19c9d62b",
   "metadata": {},
   "source": [
    ">Between the average price per square foot (denoted as 'x') and the average floor size (denoted as 'l'), the correlation coefficient is -0.26667, indicating a negative correlation. This suggests that __<span style=\"color:red\"> in Langley, there is a tendency for larger apartments to have lower prices per square foot </span>__.\n",
    "\n",
    ">In simpler terms, as the average floor size increases in Langley, the price per square foot tends to decrease. This insight highlights an inverse relationship between apartment size and price per square foot in the Langley area"
   ]
  },
  {
   "cell_type": "markdown",
   "id": "d410d5cf",
   "metadata": {},
   "source": [
    "### Compare the average square foot prices of apartments between Vancouver and Surrey"
   ]
  },
  {
   "cell_type": "markdown",
   "id": "01be7846",
   "metadata": {
    "vscode": {
     "languageId": "r"
    }
   },
   "source": [
    "[1] \"Correlation Matrix of Apartment Characteristics in Vancouver\"\n",
    "        x       y       z       l\n",
    "x 1.00000 0.30241 0.38590 0.40166\n",
    "y 0.30241 1.00000 0.77728 0.68787\n",
    "z 0.38590 0.77728 1.00000 0.79829\n",
    "l 0.40166 0.68787 0.79829 1.00000\n",
    "\n",
    "[1] \"Correlation Matrix of Apartment Characteristics in Surrey\"\n",
    "         x        y       z        l\n",
    "x  1.00000 -0.14714 0.05086 -0.15118\n",
    "y -0.14714  1.00000 0.69331  0.64490\n",
    "z  0.05086  0.69331 1.00000  0.73708\n",
    "l -0.15118  0.64490 0.73708  1.00000\n"
   ]
  },
  {
   "cell_type": "markdown",
   "id": "e9f2db67",
   "metadata": {},
   "source": [
    ">For vancouver, between average price per square foot (denoted as 'x') and the average floor size (denoted as 'l'), the correlation coefficient is 0.40166, indicating a postive strong correlation. This suggests that __<span style=\"color:red\">in Vancouver, there's a trend where larger apartments tend to have a higher average price per square foot</span>__. This contrasts with the situation in Langley, where the opposite holds true.\n",
    "\n",
    ">For Surrey, between average price per square foot and the average floor size, the correlation coefficient is -0.15118. This means these two attributes are slightly negatively correlated. It seems that __<span style=\"color:red\">in Surrey, there appears to be a pattern where smaller apartments command higher average prices per square foot. This mirrors the situation observed in Langley</span>__. "
   ]
  },
  {
   "cell_type": "markdown",
   "id": "11eb5e4c",
   "metadata": {},
   "source": [
    "### Data Quality Investigation: Why Bowen Island has so many \"NA\" (the missing value)?"
   ]
  },
  {
   "cell_type": "markdown",
   "id": "ee837279",
   "metadata": {
    "vscode": {
     "languageId": "r"
    }
   },
   "source": [
    "[1] \"Correlation Matrix of Apartment Characteristics in Bowen Island\"\n",
    "   x  y  z  l\n",
    "x NA NA NA NA\n",
    "y NA NA NA NA\n",
    "z NA NA NA NA\n",
    "l NA NA NA NA"
   ]
  },
  {
   "cell_type": "markdown",
   "id": "03def9a2",
   "metadata": {},
   "source": [
    "> Because Bowen Island does not have apartment lists. It only has house lists"
   ]
  },
  {
   "cell_type": "markdown",
   "id": "021edeae",
   "metadata": {},
   "source": [
    "### Limitation of this analysis: \n",
    "- __<span style=\"color:red\">Caution Regarding Averages</span>__: Averages can sometimes be misleading. For instance, in Vancouver's apartment market, there's a tendency for larger units to have a higher price per square foot on average. While this holds true for the overall average, a closer examination reveals that certain districts within Vancouver exhibit trends similar to Langley and Surrey, where smaller units command higher prices per square foot. For more insights on the risks of aggregation, refer to my article related to [risk of aggregation][2].\n",
    "- Regarding the Dataset: The dataset currently includes data from a single day. However, you have the flexibility to add more data for your analysis. To learn how to append data from multiple days, you can refer to my repository [Scrape real estate data using spiders/crawlers and implement ETL.][1].This resource will guide you through the process of collecting and integrating data from various sources for a comprehensive analysis.\n",
    "- Limitations of Web Scraping: It's important to note that the website I used for scraping limits the number of pages that can be scraped for each city to 25 using the start URL. As a result, some listings from the cities may be missing. If you wish to scrape the entire list for each city in Vancouver, you can refer to [my article, which provides an example using another website][3]. However, this alternative source may not allow scraping of land size for houses. Nonetheless, it does allow scraping of list types if you modify the URL format and include list type parameters.\n",
    "\n",
    "[1]:https://github.com/EvaWang2020/RealEsateDataAnalysis\n",
    "[2]:https://github.com/EvaWang2020/Analyze-real-estae-lists-using-R/blob/main/Risk%20of%20average%20and%20generalization.pdf\n",
    "[3]:https://evaanalytics.wixsite.com/website/post/use-scrapy-to-real-estate-data"
   ]
  }
 ],
 "metadata": {
  "kernelspec": {
   "display_name": "R",
   "language": "R",
   "name": "ir"
  },
  "language_info": {
   "codemirror_mode": "r",
   "file_extension": ".r",
   "mimetype": "text/x-r-source",
   "name": "R",
   "pygments_lexer": "r",
   "version": "3.6.1"
  }
 },
 "nbformat": 4,
 "nbformat_minor": 5
}
