{
 "cells": [
  {
   "attachments": {},
   "cell_type": "markdown",
   "id": "b3d98927",
   "metadata": {},
   "source": [
    "## Introduction\n",
    "\n",
    "This repo explains how to use R to analyze real estate data that I scraped. The dataset has 5064 rows, covering the real estate lists from most cities in Metro Vancouver area on Jul 20, 2021.\n",
    "\n",
    "Using the scraping approach that I shared in my another repo [RealEsatelist_scrape_clean_transform][1] , you can accumulate more and more data and therefore make a more meaningful analysis.\n",
    "\n",
    "### Interested to see the insights found directly? Go check the red highlight texts at the bottom of this notebook.\n",
    "                                                                                 \n",
    "[1]:https://github.com/EvaWang2020/RealEsateDataAnalysis"
   ]
  },
  {
   "cell_type": "code",
   "execution_count": 589,
   "id": "e054aeeb",
   "metadata": {},
   "outputs": [
    {
     "data": {
 
      ],
      "text/markdown": [
       "\n",
       "| Price | Bedroom_qty | Bathroom_qty | Floor_size | Address | City_region | City | List_type | Date | Land_width | Land_depth |\n",
       "|---|---|---|---|---|---|---|---|---|---|---|\n",
       "| $1,998,000              | 5                       | 4                       | 1993                    | 3465 E 50th Avenue      | Killarney               | Vancouver               | Duplex                  | 2021-07-20              | 50                      | 108                     |\n",
       "| $3,200,000              | 5                       | 2                       | 1968                    | 3122 W 16th Avenue      | Arbutus                 | Vancouver               | House                   | 2021-07-20              | 50                      | 150                     |\n",
       "| $1,049,900              | 2                       | 2                       | 1010                    | 403 1230 Haro Street    | West End                | Vancouver               | Apt/Condo               | 2021-07-20              | NA                      |  NA                     |\n",
       "| $1,899,000              | 4                       | 2                       | 2080                    | 107 E 58th Avenue       | South Vancouver         | Vancouver               | House                   | 2021-07-20              | 37                      | 110                     |\n",
       "| $838,000                | 2                       | 2                       |  828                    | 104 1818 W 6th Avenue   | Kitsilano               | Vancouver               | Apt/Condo               | 2021-07-20              | NA                      |  NA                     |\n",
       "| $1,079,000              | 2                       | 2                       |  900                    | 1102 1618 Quebec Street | Mount Pleasant East     | Vancouver               | Apt/Condo               | 2021-07-20              | NA                      |  NA                     |\n",
       "\n"
      ],
      ]
     },
     "metadata": {},
     "output_type": "display_data"
    }
   ],
   "source": [
    "Data=read.csv(\"C://Users/17789/Documents/Mentorship/RealEstateList/realestatelist_totallistappend.csv\")   \n",
    "\n",
    "# below is a peak of the data structure \n",
    "head(Data)"
   ]
  },
  {
   "cell_type": "code",
   "execution_count": 579,
   "id": "7f2aea03",
   "metadata": {},
   "outputs": [
    {
     "data": {
      "text/plain": [
       "        Price       Bedroom_qty      Bathroom_qty      Floor_size   \n",
       " $699,000  :  71   Min.   : 0.000   Min.   : 0.000   Min.   :    0  \n",
       " $599,000  :  55   1st Qu.: 2.000   1st Qu.: 2.000   1st Qu.:  896  \n",
       " $1,299,000:  44   Median : 3.000   Median : 2.000   Median : 1388  \n",
       " $499,000  :  43   Mean   : 3.081   Mean   : 2.639   Mean   : 1910  \n",
       " $799,000  :  41   3rd Qu.: 4.000   3rd Qu.: 3.000   3rd Qu.: 2391  \n",
       " $1,399,000:  35   Max.   :16.000   Max.   :12.000   Max.   :86250  \n",
       " (Other)   :4774                    NA's   :66       NA's   :61     \n",
       "                            Address                 City_region  \n",
       " 3820 64 Street                 :   2   Coquitlam West    : 185  \n",
       " 968 Riverside Drive            :   2   Willoughby Heights: 174  \n",
       " #104 530 Ninth Street          :   1   Brighouse         : 125  \n",
       " #3103 1901 Nels Nelson Crescent:   1   Langley City      : 105  \n",
       " 1 10119 River Drive            :   1   Metrotown         : 100  \n",
       " 1 1130 Ewen Avenue             :   1   Downtown New West :  98  \n",
       " (Other)                        :5055   (Other)           :4276  \n",
       "              City            List_type            Date        Land_width     \n",
       " Vancouver      : 520   Apt/Condo  :2164   2021-07-20:5063   Min.   :   0.00  \n",
       " Surrey         : 511   House      :1971                     1st Qu.:  49.00  \n",
       " Burnaby        : 501   Townhouse  : 725                     Median :  62.00  \n",
       " North Vancouver: 498   Duplex     :  80                     Mean   :  84.96  \n",
       " Richmond       : 498   Land/Lot   :  65                     3rd Qu.:  75.00  \n",
       " Coquitlam      : 493   Multifamily:  34                     Max.   :3347.00  \n",
       " (Other)        :2042   (Other)    :  24                     NA's   :3664     \n",
       "   Land_depth    \n",
       " Min.   :   0.0  \n",
       " 1st Qu.: 104.0  \n",
       " Median : 121.0  \n",
       " Mean   : 164.2  \n",
       " 3rd Qu.: 140.0  \n",
       " Max.   :9227.0  \n",
       " NA's   :3664    "
      ]
     },
     "metadata": {},
     "output_type": "display_data"
    }
   ],
   "source": [
    "# below is a summary of the data. You can see the min, max, median, quartiles of each column\n",
    "summary(Data)"
   ]
  },
  {
   "cell_type": "code",
   "execution_count": 580,
   "id": "55ee2eee",
   "metadata": {},
   "outputs": [
    {
     "data": {
      "text/html": [
       "785"
      ],
      "text/latex": [
       "785"
      ],
      "text/markdown": [
       "785"
      ],
      "text/plain": [
       "[1] 785"
      ]
     },
     "metadata": {},
     "output_type": "display_data"
    }
   ],
   "source": [
    "# tranform currency string into values \n",
    "Data$Price <- as.numeric(gsub('[$,]', '', Data$Price))\n",
    "# print(Data$Price)\n",
    "\n",
    "# calculate the average price per floor square foot (sf)\n",
    "Average_sf_cost=Data$Price/Data$Floor_size\n",
    "# caluclate land size\n",
    "Landsize=(Data$Land_width)*(Data$Land_depth)\n",
    "# add them as columns to the table \n",
    "Data$Average_sf_cost <- Average_sf_cost\n",
    "Data$Landsize <- Landsize\n",
    "\n",
    "\n",
    "# calcualte the average price per floor square foot\n",
    "# Ingnore the rows with empty and zero values in column Floor_siz\n",
    "library (dplyr) \n",
    "Subset_Data<- filter(Data, Data$Floor_size>0 & !is.na(Data$Floor_size) )\n",
    "Subset_Avg_sf_price =  mean(Subset_Data$Average_sf_cost,na.rm = TRUE)\n",
    "round(Subset_Avg_sf_price)"
   ]
  },
  {
   "cell_type": "code",
   "execution_count": 581,
   "id": "29c5b1e7",
   "metadata": {},
   "outputs": [
    {
     "data": {
      "text/html": [
       "<table>\n",
       "<thead><tr><th scope=col>List_type</th><th scope=col>Avg_price</th><th scope=col>Max_price</th><th scope=col>Min_price</th><th scope=col>List_count</th></tr></thead>\n",
       "<tbody>\n",
       "\t<tr><td>Mfd/Mobile Home</td><td> 316           </td><td> 1175          </td><td>118            </td><td>  23           </td></tr>\n",
       "\t<tr><td>Recreational   </td><td> 526           </td><td>  526          </td><td>526            </td><td>   1           </td></tr>\n",
       "\t<tr><td>Townhouse      </td><td> 619           </td><td> 1863          </td><td>277            </td><td> 725           </td></tr>\n",
       "\t<tr><td>Multifamily    </td><td> 683           </td><td> 1605          </td><td>322            </td><td>  34           </td></tr>\n",
       "\t<tr><td>Duplex         </td><td> 784           </td><td> 1544          </td><td>351            </td><td>  80           </td></tr>\n",
       "\t<tr><td>House          </td><td> 815           </td><td>22565          </td><td>160            </td><td>1970           </td></tr>\n",
       "\t<tr><td>Apt/Condo      </td><td> 817           </td><td> 3284          </td><td>201            </td><td>2164           </td></tr>\n",
       "\t<tr><td>Land/Lot       </td><td>2386           </td><td> 5208          </td><td>533            </td><td>   4           </td></tr>\n",
       "</tbody>\n",
       "</table>\n"
      ],
      "text/latex": [
       "\\begin{tabular}{r|lllll}\n",
       " List\\_type & Avg\\_price & Max\\_price & Min\\_price & List\\_count\\\\\n",
       "\\hline\n",
       "\t Mfd/Mobile Home &  316            &  1175           & 118             &   23           \\\\\n",
       "\t Recreational    &  526            &   526           & 526             &    1           \\\\\n",
       "\t Townhouse       &  619            &  1863           & 277             &  725           \\\\\n",
       "\t Multifamily     &  683            &  1605           & 322             &   34           \\\\\n",
       "\t Duplex          &  784            &  1544           & 351             &   80           \\\\\n",
       "\t House           &  815            & 22565           & 160             & 1970           \\\\\n",
       "\t Apt/Condo       &  817            &  3284           & 201             & 2164           \\\\\n",
       "\t Land/Lot        & 2386            &  5208           & 533             &    4           \\\\\n",
       "\\end{tabular}\n"
      ],
      "text/markdown": [
       "\n",
       "| List_type | Avg_price | Max_price | Min_price | List_count |\n",
       "|---|---|---|---|---|\n",
       "| Mfd/Mobile Home |  316            |  1175           | 118             |   23            |\n",
       "| Recreational    |  526            |   526           | 526             |    1            |\n",
       "| Townhouse       |  619            |  1863           | 277             |  725            |\n",
       "| Multifamily     |  683            |  1605           | 322             |   34            |\n",
       "| Duplex          |  784            |  1544           | 351             |   80            |\n",
       "| House           |  815            | 22565           | 160             | 1970            |\n",
       "| Apt/Condo       |  817            |  3284           | 201             | 2164            |\n",
       "| Land/Lot        | 2386            |  5208           | 533             |    4            |\n",
       "\n"
      ],
      "text/plain": [
       "  List_type       Avg_price Max_price Min_price List_count\n",
       "1 Mfd/Mobile Home  316       1175     118         23      \n",
       "2 Recreational     526        526     526          1      \n",
       "3 Townhouse        619       1863     277        725      \n",
       "4 Multifamily      683       1605     322         34      \n",
       "5 Duplex           784       1544     351         80      \n",
       "6 House            815      22565     160       1970      \n",
       "7 Apt/Condo        817       3284     201       2164      \n",
       "8 Land/Lot        2386       5208     533          4      "
      ]
     },
     "metadata": {},
     "output_type": "display_data"
    }
   ],
   "source": [
    "# calculate the average floor sf price by list type\n",
    "# you can add more filters, such as setting up bedroom quantity \n",
    "library(dplyr)\n",
    "Subset_Data<- filter(Data, Data$Floor_size>0 & !is.na(Data$Floor_size) )\n",
    "# Subset_Data<- filter(Subset_Data, Subset_Data$Bedroom_qty==1)\n",
    "# Subset_Data<- filter(Subset_Data, Subset_Data$Bathroom_qty==1)  \n",
    "# Subset_Data<- filter(Subset_Data, Subset_Data$City=='Vancouver')  \n",
    "\n",
    "\n",
    "ex1 <- Subset_Data %>% \n",
    "  group_by(List_type) %>% \n",
    "  summarize(Avg_price = round(mean(Average_sf_cost,na.rm = TRUE)), \n",
    "            Max_price = round(max(Average_sf_cost,na.rm = TRUE)),\n",
    "            Min_price = round(min(Average_sf_cost,na.rm = TRUE)),\n",
    "            List_count = length(Price))\n",
    "ex1  %>%\n",
    "    arrange(Avg_price)"
   ]
  },
  {
   "cell_type": "code",
   "execution_count": 582,
   "id": "55421095",
   "metadata": {},
   "outputs": [
    {
     "data": {
      "image/png": "iVBORw0KGgoAAAANSUhEUgAAAtAAAAHgCAMAAAC7G6qeAAAAWlBMVEUAAAAArPwAu9oAvnAA\nwasktwAzMzNNTU1oaGh8fHyLk/+MjIyMqwCampqnp6eysrK9vb2+nADHx8fQ0NDVdf7Z2dnh\nigDh4eHp6enw8PD4dm35Yt3/Zaz///+srXskAAAACXBIWXMAABJ0AAASdAHeZh94AAAYc0lE\nQVR4nO2di3arMHsF6e1XXNdOGjd10pb3f83aXCUhzB0N8p61EgzIsI81IQLCd7JciITIYgcQ\nYk0ktEgKCS2SQkKLpJDQIikktEgKCS2SQkKLpJDQIikktEiKAwhtMrP2Jv8uWfaRZ5P+8beL\nebzp+rd451nDq1Z/l8BbTl/OwsVREoT/odweHXlbeZvnpxzTjDjXUi3OMk5oZ237llNPC1HB\n/1DO2TU7r7zNLLvn04z4yszT5N+v8q3Ldj65VT3zY7KvYGtRgxf67zE2+MiW/6J3KAWZIrTJ\nfssXX9nldcuRO5/Uqpn5sQ/RIgBe6M/HMekr+8xLtUsKwX9Oj1/Axe//LPv7KA7i14/Hop+y\nze2Uma/KhLZpXrYvf9+XK++PsbG5VIdda6bZavUe99Vj849Q7VaqSZugebu3c1/ont27QxJ3\n79Wmq4XPJJfyB76zqzcEL7R5yPtXnhZeslLWn+dB8rvU8po/O/hcvDDWIPezXFt0utW0wBH6\nZg+N7Zl6qyWn9uWTa9Hs0xfadN/u79wTum/3r4UuNl39CBUti8+nu6s3hC70rTjKXYoOv1cH\nzPND7HtxILyfys4/PY9Qn8Vx/LP4pXzPsu/Hm82z0+2mFe2Q49Hw8/ET89Di15uptlrx+zx0\nftfD53Lz38YT2k5Qvb13582GendvfQrNzO257WrTxcL7c2z/V/y4BXb1htCFPhfdU2pdjaWL\noce1HFb/PVdk5ZG7GmkX/XwtT56+nzN204pW6Gt1QLs8p85MtdWa3/Iyx/lWNmg3bwltJ6je\nHtx5e5Hj1e6tndczj5/QW7PpYmGZpPORvC9woavBRjHweHr97PHP59Hxw9Ki7fv77fNUzH3U\nnZu5TStaoT+qk73fpxLOTOfc7a/YeHH4NdbmnTF0m6CaD+68XTJy9+1lu2vu7tE6Xw7s6g2B\n/+M/m056/jLPjam/ZVbv1T34ZZr+rBeVq18I3Szsn3F4nHd9+ptvN9lN0Ltz7/Xr3VebMOeb\n9SbnHxre1RsC/8ebppOKI/X1cXC+2Uepgur11+Poef3+DQjd2exkoduZ4ndGj9CBBL07916P\n3b011xW6s6s3hP0h3JrxYDmWfo4VT8UvZmPd32h+u7dDS3vIYbq3QiYPOawzLcs2f8hhJ6gW\n9+48rzKPHHIENlBdV2mGHIFdvSFsoc/NidlPqfY5u5QvLuX9jXt51l80KSc3+6Tw6zljN62w\nTwrL+yTVWZk140j03VwD/35uxpS5vkqh/+rd2gmqt/fuvGTk7vuFvlQ/6Ca4qzcELXR7K6U+\n5v5k1SXbe3F+dK/O+qsWX/WVuvq6WjGetJtWtEI/xgfX8lLZ3ZtxJTpl5vsR4Pda7P/rMVdv\n/pSd/6rd2gnqk8S+nZe82v1vHnyLK/QtM/fmsl1nV28IWuhPq29u5WnhR+34rXPW/1UPt39y\n62zSbVrRCv3qxood5ffknJ2WtzPOzzY/5carMXSToH57385zZ3V39x9955Heb6QyySm8qzcE\nLbQxnZnv5q9zfq8m+yhmrKsc5vJTjbufd4TPP+WqtmmFJfSLW99umNu5+PPRquHPOTPVzbqf\nj8x8Nlc56gTN23t2XtO3+/uH9VezL4TOvz6eScK7ekPQQi9m65sMurCAI9EeKYbQz4vG2x6v\nJDSORHukHkJvfMIvoXGk2iO34qGU7433IqFxqEdEUkhokRQSWiSFhBZJIaFFUkhokRQSWiSF\nhBZJIaFFUqCFRocTSNDOoMMJJGhn0OEEErQz6HACCdoZdDiBBO0MOpxAgnYGHU4gQTuDDieQ\noJ1BhxNI0M6gwwkkaGfQ4QQStDO94f5PvCVLnCEgoYXDEmdmYrzpIiS0cFjizEwktNiOJc7M\nxVjflyKhhcMSZ+bSCm1M+V+i5OW0nm+Xlyvr9lbzwXCxP1gRhxH+rX9SaKyvUtRqmgentdBO\n8zz/xxMJLRxG6Led0PWMI3AeFjvQ7GW42B+siMMI/bYUuhxEjBXaWM2HwsX+YEUcRui3wXVo\na1w85ghdtQ9dHpHQwmGEfdsJHRwzB5ZLaDGWEfZtcafQvtDRezLYrM8D/g+Fi/3BijiMkG87\noYurdc6RuHv5znLZuZq3YTiRNmhn0OEEErQz6HACCdoZdDiBBO0MOpxAgnYGHU4gQTuDDieQ\noJ1BhxNI0M6gwwkkaGfQ4QQStDPocAIJ2hl0OIEE7Qw6nECCdgYdTiBBO4MOJ5CgnUGHE0jQ\nzqDDCSRoZ9DhBBK0M73h/lf0smcHAdlV6Prhq7FI6Bks76ZDs6fQ1gOE45DQM1jcTcdmR6GN\nMxmDhJ7B0m46OPsLndslC4oHv01TqtErXSqhZ7BdBx6CPYVuRtBuHcdQKdKBYo2xpSGzbSfi\n2fkqh1NJ160wYxe6GwoXWxoyG/beEdj/sl2giJJbqlFCL2Lb3sNDEbpda500SugZbNVvByHK\nVQ4JvSFbdN2B2PWksPhefwXH0BJ6MZv13zGIc6fQr+Nor4oVTiQBzhkJLZaAc0ZCiyXAnHH/\neAkWThwAtDPocAIJ2hl0OIEE7Qw6nECCdgYdTiBBO4MOJ5CgnUGHE0jQzqDDCSRoZ9DhBBK0\nM+hwAgnaGXQ4gQTtDDqcQIJ2Bh1OIEE7gw4nkKCdQYcTSNDO9Ib7L7Eqe3bqxkhoIaFfY0xd\nZcN+/GR8SbsRdTliC5Aas/qZyRZCe9PQ3Jj3S+jdmNbBaCS0kNCvsYQuC3BUow9nWlUt8FbW\n9Q2GwsUWIDXWlyAamwvtVhr1Ko52VtbrBqqPxhYgNdaXIBqbnxQ6AxC/WlLfdChcbAFSY30J\norHVEbopgyShD8DKBsRksyGH46g/L6FZrGxATCS0kNCvacvmvna2Z6UZIbQQPex42S7vCu2v\nHHvZToge0M6gwwkkaGfQ4QQStDPocAIJ2hl0OIEE7Qw6nECCdgYdTiBBO4MOJ5CgnUGHE0jQ\nzqDDCSRoZ9DhBBK0M+hwAgnaGXQ4gQTtDDqcQIJ2Bh1OIEE7gw4nkKCdQYcTSNDO9Ib7d7ER\ne3bvJkhoYbNn927CqkK3BTnCq71p3/oGCb070zocyLpCOxN/cf34a6/xEjo+U7sch4QWNlO7\nHMdWQttVGOtRiKlKG1jr7WleP/DdiC2hd2dNHaKwkdB+FcZqeSN0T0GOVujXxRpjd3u6rKlD\nFDY6KQyWQhoQuhF7OFzsbk+XNXWIwhZH6LxX6MZmCQ1lTR2iABM6twsnSej9WVOHKEhoYbOm\nDlHYWej6q+ekUELHZk0dorCR0G4VxuaynfUVvGznboN9X14gwTkjocUScM5IaLEEmDPubXFY\nOHEA0M6gwwkkaGfQ4QQStDPocAIJ2hl0OIEE7Qw6nECCdgYdTiBBO4MOJ5CgnUGHE0jQzqDD\nCSRoZ9DhBBK0M+hwAgnaGXQ4gQTtDDqcQIJ2pjfcP4kAe3YNFgmdDnt2DZZZQg8UZczbJ6t6\n1zuTPiT0JF5/mG/CPKGdib+4/jP9AVvNcBMJPYnXH+absI3Q4fXd1hJ6TV5/mG/CUqHDRRmt\npu5T3W3ZAlM/521voX1C/HW42OowmdOVybFQ6EZQ+3hrvJZW3Q1r3q/QYZXmyIeKNcZWh8mc\nrkyOhSeFvQVl7JfhwjLej4Cxmw+Fi60OkzldmRxLjtD5OkKXPxsSejFzujI54gtt/C1I6JnM\n6crk2ELo0Bi7O/XH0PbmhsLFVofJnK5Mjm2EbmZDJ4WmI7SGHKswpyuTY6HQwaKM7eK8U4yx\nvXzXXTJeaCF62NMZM9zERUKLqUhokRQSWiQF2hl0OIEE7Qw6nECCdgYdTiBBO4MOJ5CgnUGH\nE0jQzqDDCSRoZ9DhBBK0M+hwAgnaGXQ4gQTtDDqcQIJ2Bh1OIEE7gw4nkKCdQYcTSNDO9Ib7\nZ/Fkz744ChL6wOzZF0dhodBehQ5rhTftvHHM1iX0a8Z8hu/GUqHtiVM6xtiT3je+RkK/ZlQX\nvRkS+sCM6qI3YzWh63KNTcFG035vn/z2nwD3H/d260pL6Ncs67s0WVFor1pdI3So2IxlsvG+\nl99eF2uMbRKEZX2XJmueFA4IXS0PV1FqfyTGhIttEoRlfZcm6xyh84DQuVVRxhlzvBDaG3NL\n6Ncs67s02UNou3FQaGu8kWsMPZ5lfZcmOwodGkt3hR5VCiy2SRCW9V2abCh06IjsFWy039O8\nktBjWdZ3abKq0Mbk7WU76ytcsLFd3m5q5GU7IXpAO4MOJ5CgnUGHE0jQzqDDCSRoZ9DhBBK0\nM+hwAgnaGXQ4gQTtDDqcQOI58/H5EydHEAktpuI5k2WZudziROkiocVUPGf+vs8Pp7PT92+c\nOC4SWkwl4Mztah5OfwCO0xJaTCXkzO81Kw7Tu4fxkdBiKl1n7ufi8Pxzys4R8jhIaDEV35nb\nqRltZNF9ih5AHA7/sl2Wne/1KtNpvTMSWkzFv2x3vYfbRUFCi6n4l+3ipOhBQoupdG6slNPe\nike70iv0v4pjsKctJbYzJrPotDTOJLTKfrnKD4SEPjprWDAN25kvy+evTkvrYUFncS6hRR9r\nWDCNniFHAOM/k10vdpeFtZ+HhD46q2gwifHnXZbQTfWvqihS+7C3U5PAapXnuV+z0VgbrQss\nVc0Hw8XuJzGS0Xathu3M4/D8egztF9po6xTkwYocTqueOjO10E7zoWKNsftJjGSelEtYJHQ1\ndccizhjEb52HxQ4088M5xO4nMZLRHq7GlCFHLdxYoQO1GfN+oY3VfChc7H4SIxlt12pMEzoP\nFnz2zhatcfGYI3Ru2m3kEjotRtu1Gq4zX4VOP5fQ/e+pQgfHzIHlEjphhvRbH8eZU5YVKpvs\n2m1ZDyMGhbYP0P0ng+3ZZMD/UDib2P0kRjLKwVWxnfnOTPmHoz8m++60NO3EufBmOheo65bG\nLeDf91+tOCPucUIL0YPtzCmrH7u6AR5XySW0mI532S7wMiKIEOJQ9Altuk33R0KLqbhDjrp4\nwW92iRHGR0KLqbh/bVdrfMkARQwktJiO44zJzs9KYD/n7CNSHBcJLabiOPNb/4m/QRROktBi\nMp4zRSWwc/cidBwktJgK2hl0OIEE7Qw6nECCdgYdTiBBO4MOJ5CgnUGHE0jQzqDDCSRoZ9Dh\nBBK0M+hwAgnaGXQ4gQTtTG+4fxEL2bMbd0VCvyd7duOuDAptnMnQ+hHPBUx4dEBCb8b4TjgY\nw0K3z3CH11ff+5qN8bevjYTejBG9ckxGHKG9Z7q7DV62ktBIRvTKMZkitFvay66/0W3VtLaq\nk5q2bmO3zaTqo7F1OD4zVDkGY8bQbk0vv9iRcb9668lYVUhDBUmb1+VWX1cfja3D8ZmhyjGY\nLnR1iHUrz+RhoXNX1vbt/W1GFZqJrcPxGSXHERl1laM+rjZjDuPpaMlct7LPJvuEdtpMqT4a\nW4fjM0mSIzHusp0ncDvqyK1XbtHFvB1Z9Avtt8kl9E4Mdfth2VLozvg4ILTbJpfQOzHU7Ydl\n5I0V5/KGsVbYr3xvB4UOnhROCSeEx5Q7hc0FOXtF7h9c/f8byHTrRRtvi+5luwnhhPBAO4MO\nJ5CgnUGHE0jQzqDDCSRoZ9DhBBK0M+hwAgnaGXQ4gQTtDDqcQIJ2Bh1OIEE7gw4nkKCdQYcT\nSNDOoMMJJGhn0OEEErQz6HACCdoZdDiBBO0MOpxAgnYGHU4gQTvTG+7f3oY9P+4kkNBs9vy4\nk2AdoUNPuIYXGdPWOeh/U4WEltBTWUloY0/cVeFZ09vCQkJL6KlIaDaju0CUrDXkaEt1WEUX\nmyIyxvgit3WW/Knlt4SW0FNZXeimWkFls1dXxhW6dNidlt9eF2uMrdl+rNI978T6R+hyvq9Q\nkntSGKo4Yw1BJLSEnspqVzmsw7NTRtrkbf3G3FE2JLRxxhwSWkJPZX2huwdf47bM+4/M3vmh\nhJbQU1ld6ICjEno+q3TPO7HejRXryGwGTwr9xtZUY2ibVbrnnVhd6PoK3KaX7YToYTNnzHCT\nwXdIaDEVhtDeUKNGQoupMIT2hho1ElpMBe0MOpxAgnYGHU4gQTuDDieQoJ1BhxNI0M6gwwkk\naGfQ4QQStDPocAIJ2hl0OIEE7Qw6nECCdgYdTiBBO4MOJ5CgnUGHE0jQzqDDCSRoZ3rD/Yd4\nsGdXHAYJfVz27IrDsIfQQ38a3bteQr9kdoekjIQ+LrM7JGUk9HGZ3SEps6vQXh3H9gFxp9xS\n215Cv2SzDjsyewrdFvzK/aoc1apW6NfFGmOrxGDTTjsquw85XhRXsmqJDYSLrRKDLfrq8Owr\ndKeOo1/PUUJPYLMOOzL7jqHzwfJ3xj6eS+iXbNBVxyfKGLo7ldAz2KCrjs/eQvtDDvekUEJP\nYav+OjS7CN2MkI1x7fUv2+XuGST6vrxAEt0Z/66KhBZLiOlMsESjhBZLiOpMt0SjOy+hxVTQ\nzqDDCSRoZ9DhBBK0M+hwAgnaGXQ4gQTtDDqcQIJ2Bh1OIEE7gw4nkKCdQYcTSNDOoMMJJGhn\n0OEEErQz6HACCdoZdDiBBO0MOpxAgnamN9x/ioo9u+MQSOhjs2d3HIIYQjePZFmLgg0l9CAr\nd83xiSK0M6lfB5yW0IOs3DXHJ6LQtsISeiYrd83xiS20Xb/R+A9lSehBNu2oIxJZaK/WTPvY\n7OtijbE14rB1Xx0OltDOah2hR7BVHx2W2EK3RRqrOjP2mENCD7JpRx2R2EJ7L0dWH42tEYet\n+uiwsIT2Ss9I6EG26qPDEvk6dOCkUEOOKWzZT4ck9p3C5rJdbpdzjBhOHBu0M+hwAgnaGXQ4\ngQTtDDqcQIJ2Bh1OIEE7gw4nkKCdQYcTSNDOoMMJJGhn0OEEErQz6HACCdoZdDiBBO0MOpxA\ngnYGHU4gQTuDDieQoJ1BhxNI0M6gwwkkaGfQ4QQStDO94f5brM2e/bolEloU7NmvW7KR0N3/\nlt5b70z6kND7Mb2PmWwitPGe3g43Gm4iofdjcidD2UZoZ/KikYTGMLWPqWwhtFMntxp7VI9z\nt2ULTP2At12usXr2ezBc7N5PkA08iMLGQlt1N3ITLM7YLGlqcowo1hi79xNkAw+isKPQfdVG\n3TWjKifF7v0EWdWAiACEbso1SuiIrC1BLOIL7Q09JHQc1pYgFhtf5RgW2l8joeOwhQcx2Pg6\ndOik0HSE1pAjPlt4EIOt7xR6l+2sy3fdJeOFFqKHPZ0ZuI3SRUKLqUhokRQSWiQF2hl0OIEE\n7Qw6nECCdgYdTiBBO4MOJ5CgnUGHE0jQzqDDCSRoZ9DhBBK0M+hwAgnaGXQ4gQTtDDqcQIJ2\nBh1OIEE7gw4nkKCdQYcTSNDOoMMJJGhnesP9j0Cwpwwj2VpoUzLYLLhUQsNZIMZWbC60Mxlq\n5iGh4cy1YkMktJjPXCs2ZD+h7TqNdWnGTqlG+z0SGs923sxmH6GdEh12VUZ3odX6dbHG2B0p\nSjZVZx77nRT2l0jy6ieNqMsRuyNFyTbOLCLGkCN3vhkjoY/KNs4sIrbQfqlGY/ksoelsoswy\nIgvdWSihj8QmyixjX6E7VRmbhe3RWkIfh62sWcCOdwqDVRmbhU11xx3DifTAOSOhxRJwzkho\nsQSYM+6fMcHCiQOAdgYdTiBBO4MOJ5CgnUGHE0jQzqDDCSRoZ9DhBBK0M+hwAgnaGXQ4gQTt\nDDqcQIJ2JuvjH71r9oOQARGCkMFyJp6uC/hH7AA5IwMiBCFDi4SeCyEDIgQhQ4uEngshAyIE\nIUPLMYUWogcJLZJCQoukkNAiKSS0SAoJLZLiiEKPKTi99b796duFIGQIcUChnbp4kfbdrZrz\nZiEIGYJI6Fn7ltCADEEk9KwA8YXOJXQQCT0rQGSh+woU75khj/9BhJDQU/ce3aVutfgIIfxK\nhRJ6PtE/u9j9iDg6epUKo3dKjYSeFUBCUzL4SOhZ+357oQkZgkjoWfuW0IAMQQ4otO4UEkIQ\nMoQ4otBC9CKhRVJIaJEUElokhYQWSSGhRVJIaJEUElokhYQWSSGhyVS1NS93a0nEOEdAnw+Z\nplzsvV0SM88B0OdDptL3mp0iBzkOEppMfTx+Th+HaXMql/yeM3N9Lv+7PMYjfxED8pDQZFyh\nT9mlePVnnqOQ82N58eIjakQaEppMKfTjOHx5vr5WS66P2Z/ni8/nomv2FTklCglNpjkp/H2+\n/s1LoT+yapTxUfRecawWFRKaTGmzKS7blUfrcvDhrNaFDxt9GGSc/95JQo9BHwaZsNDekEPY\n6CMhExb6+jgXvNcv8m9dpLaR0GTCQv/WV+vK63ftbUQhodmEhc7vpyy7PK95/F6y7PQTJxsU\nCS2SQkKLpJDQIikktEgKCS2SQkKLpJDQIikktEgKCS2SQkKLpJDQIikktEiK/wePoewi4cnI\nCAAAAABJRU5ErkJggg==",
      "text/plain": [
       "plot without title"
      ]
     },
     "metadata": {},
     "output_type": "display_data"
    }
   ],
   "source": [
    "# create a function to calculate the average sf price by the city for appartmet (Appt) list\n",
    "# you can add more filters, such as setting up bedroom quantity \n",
    "library(ggplot2)\n",
    "\n",
    "\n",
    "Subset_Data<- filter(Data, Data$Floor_size>0 & !is.na(Data$Floor_size))\n",
    "Subset_Data<- filter(Subset_Data, Subset_Data$List_type=='Apt/Condo')\n",
    "# Subset_Data<- filter(Subset_Data, Subset_Data$Bedroom_qty==1)\n",
    "# Subset_Data<- filter(Subset_Data, Subset_Data$Bathroom_qty==1)       \n",
    "    \n",
    "ex1<-Subset_Data %>% \n",
    "    group_by(City) %>% \n",
    "    summarize(Avg_price = mean(Average_sf_cost,na.rm = TRUE),List_Count = length(Price) ) \n",
    "\n",
    "options(repr.plot.width=6, repr.plot.height=4)\n",
    "ggplot(ex1, aes(y = City, x =Avg_price, Color=City,fill=City)) +\n",
    "    geom_bar(stat = \"identity\", width=0.4, show.legend = FALSE) + \n",
    "    theme_classic() + \n",
    "    #scale_x_reordered() +\n",
    "    labs(\n",
    "        y = \"City\",\n",
    "        x = \"Price\",\n",
    "        title = paste(\n",
    "            \"Average floor Square Foot Price\"\n",
    "     )\n",
    "    )\n"
   ]
  },
  {
   "cell_type": "code",
   "execution_count": 583,
   "id": "410dcf39",
   "metadata": {},
   "outputs": [
    {
     "data": {
      "image/png": "iVBORw0KGgoAAAANSUhEUgAAAtAAAAHgCAMAAAC7G6qeAAAAM1BMVEUAAABNTU1oaGh8fHyM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\nRU5ErkJggg==",
      "text/plain": [
       "Plot with title \"Frequency of Average Square Foot Price - House\""
      ]
     },
     "metadata": {},
     "output_type": "display_data"
    }
   ],
   "source": [
    "# average price frequency of for House only\n",
    "# you can add more filters, such as setting up specific city/cities\n",
    "\n",
    "Subset_Data<- filter(Data, Data$Floor_size>0 & !is.na(Data$Floor_size) )\n",
    "Subset_Data<- filter(Subset_Data,  Subset_Data$List_type=='House')\n",
    "# Subset_Data<- filter(Subset_Data, Subset_Data$City=='Vancouver')  \n",
    "\n",
    "\n",
    "data=hist(Subset_Data$Average_sf_cost,plot=FALSE,breaks=12)  \n",
    "ymax=max(data[[2]])  # to find the max number of Y axis based on type 2 data of a vector\n",
    "options(repr.plot.width=6, repr.plot.height=4)\n",
    "plot(data[[4]],data[[2]],type='o',\n",
    "     ylab=\"Frequency/list quantity\",xlab=\"Average square foot price\",main=\"Frequency of Average Square Foot Price - House\" ,frame.plot='TRUE',axes=FALSE,ylim=c(0,ymax+1), col=\"red\")  # ylim is the function to define the numbe limit of Y axis \n",
    "\n",
    "axis(1,data[[4]])\n",
    "axis(2)\n"
   ]
  },
  {
   "cell_type": "code",
   "execution_count": 584,
   "id": "0604f6b2",
   "metadata": {},
   "outputs": [
    {
     "data": {
      "image/png": "iVBORw0KGgoAAAANSUhEUgAAAtAAAAHgCAMAAAC7G6qeAAAAM1BMVEUAAAAAAP9NTU1oaGh8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\n",
      "text/plain": [
       "Plot with title \"Frequency of Average Square Foot Price - Appt\""
      ]
     },
     "metadata": {},
     "output_type": "display_data"
    }
   ],
   "source": [
    "# average price frequency of for appt only\n",
    "# you can add more filters, such as setting up specific city/cities\n",
    "Subset_Data1<- filter(Data, Data$Floor_size>0 & !is.na(Data$Floor_size) )\n",
    "Subset_Data1<- filter(Subset_Data1,  Subset_Data1$List_type=='Apt/Condo')\n",
    "# Subset_Data1<- filter(Subset_Data1, Subset_Data1$City=='Vancouver')  \n",
    "\n",
    "\n",
    "data=hist(Subset_Data1$Average_sf_cost,plot=FALSE,breaks=12)  \n",
    "ymax=max(data[[2]])  # to find the max number of Y axis based on type 2 data of a vector\n",
    "options(repr.plot.width=6, repr.plot.height=4)\n",
    "plot(data[[4]],data[[2]],type='o',\n",
    "     ylab=\"Frequency/list quantity\",xlab=\"Average square foot price\",main=\"Frequency of Average Square Foot Price - Appt\" ,frame.plot='TRUE',axes=FALSE,ylim=c(0,ymax+1),col=\"blue\")  # ylim is the function to define the numbe limit of Y axis \n",
    "\n",
    "axis(1,data[[4]])\n",
    "axis(2)"
   ]
  },
  {
   "cell_type": "code",
   "execution_count": 585,
   "id": "2696f6bd",
   "metadata": {},
   "outputs": [
    {
     "data": {
      "image/png": "iVBORw0KGgoAAAANSUhEUgAAAtAAAAHgCAMAAAC7G6qeAAAANlBMVEUAAAAAAP9NTU1oaGh8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\nQRQIDaJAaBDF/2oF2qkYhjt+AAAAAElFTkSuQmCC",
      "text/plain": [
       "Plot with title \"Histogram for Appt List\""
      ]
     },
     "metadata": {},
     "output_type": "display_data"
    }
   ],
   "source": [
    "# zoom in to check frequency in a smaller price range for specif areas\n",
    "# you can add more filters, such as setting up specific city regions\n",
    "Subset_Data<- filter(Data, Data$Floor_size>0 & !is.na(Data$Floor_size) )\n",
    "Subset_Data<- filter(Subset_Data,  Subset_Data$List_type=='Apt/Condo')\n",
    "# Subset_Data<- filter(Subset_Data, Subset_Data$City=='Vancouver' )\n",
    "Subset_Data<- filter(Subset_Data,  Subset_Data$City_region=='Downtown West' |  Subset_Data$City_region=='Coal Harbour' |  Subset_Data$City_region=='Cambie' | Subset_Data$City_region=='Yaletown')\n",
    "\n",
    "\n",
    "hist(Subset_Data$Average_sf_cost,\n",
    "     main=\"Histogram for Appt List\", \n",
    "     xlab=\"Average Square Foot Price \", \n",
    "     border=\"blue\", \n",
    "     col=\"yellow\",\n",
    "     xlim=c(500,1800),\n",
    "     las=1,\n",
    "     breaks=30 )\n"
   ]
  },
  {
   "cell_type": "code",
   "execution_count": 586,
   "id": "8ee2733f",
   "metadata": {
    "scrolled": false
   },
   "outputs": [
    {
     "name": "stdout",
     "output_type": "stream",
     "text": [
      "[1] \"Correlation Matrix of house; City: Vancouver\"\n",
      "         x        y       z       l       m\n",
      "x  1.00000 -0.20501 0.00929 0.12361 0.39713\n",
      "y -0.20501  1.00000 0.68523 0.51877 0.12949\n",
      "z  0.00929  0.68523 1.00000 0.73558 0.39265\n",
      "l  0.12361  0.51877 0.73558 1.00000 0.67532\n",
      "m  0.39713  0.12949 0.39265 0.67532 1.00000\n",
      "[1] \"--------------------------------------------------------\"\n",
      "[1] \"Correlation Matrix of house; City: Langley\"\n",
      "         x        y        z        l        m\n",
      "x  1.00000 -0.35265 -0.37316 -0.25582  0.53029\n",
      "y -0.35265  1.00000  0.75735  0.55986  0.00751\n",
      "z -0.37316  0.75735  1.00000  0.78102 -0.05277\n",
      "l -0.25582  0.55986  0.78102  1.00000  0.15699\n",
      "m  0.53029  0.00751 -0.05277  0.15699  1.00000\n",
      "[1] \"--------------------------------------------------------\"\n",
      "[1] \"Correlation Matrix of house; City: North Vancouver\"\n",
      "         x        y        z        l       m\n",
      "x  1.00000 -0.27354 -0.31904 -0.44250 0.06243\n",
      "y -0.27354  1.00000  0.68586  0.66453 0.23762\n",
      "z -0.31904  0.68586  1.00000  0.85913 0.21338\n",
      "l -0.44250  0.66453  0.85913  1.00000 0.19083\n",
      "m  0.06243  0.23762  0.21338  0.19083 1.00000\n",
      "[1] \"--------------------------------------------------------\"\n",
      "[1] \"Correlation Matrix of house; City: Richmond\"\n",
      "         x        y        z        l       m\n",
      "x  1.00000 -0.19968 -0.16357 -0.07772 0.00092\n",
      "y -0.19968  1.00000  0.59397  0.52311 0.02755\n",
      "z -0.16357  0.59397  1.00000  0.71028 0.02315\n",
      "l -0.07772  0.52311  0.71028  1.00000 0.28391\n",
      "m  0.00092  0.02755  0.02315  0.28391 1.00000\n",
      "[1] \"--------------------------------------------------------\"\n",
      "[1] \"Correlation Matrix of house; City: Maple Ridge\"\n",
      "         x        y        z        l        m\n",
      "x  1.00000 -0.51007 -0.52485 -0.47427  0.40873\n",
      "y -0.51007  1.00000  0.73593  0.69892 -0.18175\n",
      "z -0.52485  0.73593  1.00000  0.87304 -0.10526\n",
      "l -0.47427  0.69892  0.87304  1.00000  0.03580\n",
      "m  0.40873 -0.18175 -0.10526  0.03580  1.00000\n",
      "[1] \"--------------------------------------------------------\"\n",
      "[1] \"Correlation Matrix of house; City: New Westminster\"\n",
      "         x        y        z        l        m\n",
      "x  1.00000 -0.12565 -0.37746 -0.50060  0.51586\n",
      "y -0.12565  1.00000  0.60392  0.50935  0.01086\n",
      "z -0.37746  0.60392  1.00000  0.71458 -0.16466\n",
      "l -0.50060  0.50935  0.71458  1.00000  0.11466\n",
      "m  0.51586  0.01086 -0.16466  0.11466  1.00000\n",
      "[1] \"--------------------------------------------------------\"\n",
      "[1] \"Correlation Matrix of house; City: Pitt Meadows\"\n",
      "         x        y        z        l       m\n",
      "x  1.00000 -0.71830 -0.60621 -0.74087 0.16551\n",
      "y -0.71830  1.00000  0.93495  0.86164 0.16649\n",
      "z -0.60621  0.93495  1.00000  0.75111 0.09212\n",
      "l -0.74087  0.86164  0.75111  1.00000 0.48764\n",
      "m  0.16551  0.16649  0.09212  0.48764 1.00000\n",
      "[1] \"--------------------------------------------------------\"\n",
      "[1] \"Correlation Matrix of house; City: Delta\"\n",
      "         x        y        z        l        m\n",
      "x  1.00000 -0.33267 -0.26622 -0.24558  0.50397\n",
      "y -0.33267  1.00000  0.69128  0.62662 -0.04598\n",
      "z -0.26622  0.69128  1.00000  0.83393  0.00465\n",
      "l -0.24558  0.62662  0.83393  1.00000  0.05143\n",
      "m  0.50397 -0.04598  0.00465  0.05143  1.00000\n",
      "[1] \"--------------------------------------------------------\"\n",
      "[1] \"Correlation Matrix of house; City: Coquitlam\"\n",
      "         x        y        z        l        m\n",
      "x  1.00000 -0.50350 -0.54214 -0.53287  0.12507\n",
      "y -0.50350  1.00000  0.75315  0.68239 -0.00368\n",
      "z -0.54214  0.75315  1.00000  0.86315  0.08631\n",
      "l -0.53287  0.68239  0.86315  1.00000  0.11066\n",
      "m  0.12507 -0.00368  0.08631  0.11066  1.00000\n",
      "[1] \"--------------------------------------------------------\"\n",
      "[1] \"Correlation Matrix of house; City: Burnaby\"\n",
      "         x        y        z        l        m\n",
      "x  1.00000 -0.46694 -0.35172 -0.60439 -0.10395\n",
      "y -0.46694  1.00000  0.75532  0.72696  0.09274\n",
      "z -0.35172  0.75532  1.00000  0.76423  0.04030\n",
      "l -0.60439  0.72696  0.76423  1.00000  0.20517\n",
      "m -0.10395  0.09274  0.04030  0.20517  1.00000\n",
      "[1] \"--------------------------------------------------------\"\n",
      "[1] \"Correlation Matrix of house; City: Bowen Island\"\n",
      "         x        y        z        l       m\n",
      "x  1.00000 -0.15856 -0.47378 -0.27322 0.16572\n",
      "y -0.15856  1.00000  0.67791  0.65559 0.18987\n",
      "z -0.47378  0.67791  1.00000  0.92264 0.52497\n",
      "l -0.27322  0.65559  0.92264  1.00000 0.74791\n",
      "m  0.16572  0.18987  0.52497  0.74791 1.00000\n",
      "[1] \"--------------------------------------------------------\"\n",
      "[1] \"Correlation Matrix of house; City: Surrey\"\n",
      "         x        y        z        l        m\n",
      "x  1.00000 -0.33105 -0.31422 -0.22596  0.59243\n",
      "y -0.33105  1.00000  0.83104  0.71978 -0.04084\n",
      "z -0.31422  0.83104  1.00000  0.84204  0.01143\n",
      "l -0.22596  0.71978  0.84204  1.00000  0.20537\n",
      "m  0.59243 -0.04084  0.01143  0.20537  1.00000\n",
      "[1] \"--------------------------------------------------------\"\n",
      "[1] \"Correlation Matrix of house; City: Port Moody\"\n",
      "         x        y        z        l        m\n",
      "x  1.00000 -0.34644 -0.40240 -0.36729  0.15121\n",
      "y -0.34644  1.00000  0.56347  0.46071  0.12263\n",
      "z -0.40240  0.56347  1.00000  0.86957 -0.04429\n",
      "l -0.36729  0.46071  0.86957  1.00000 -0.04644\n",
      "m  0.15121  0.12263 -0.04429 -0.04644  1.00000\n",
      "[1] \"--------------------------------------------------------\"\n",
      "[1] \"Correlation Matrix of house; City: Port Coquitlam\"\n",
      "         x        y        z        l        m\n",
      "x  1.00000 -0.56148 -0.52763 -0.56012  0.16259\n",
      "y -0.56148  1.00000  0.79705  0.74018 -0.02441\n",
      "z -0.52763  0.79705  1.00000  0.86535  0.27300\n",
      "l -0.56012  0.74018  0.86535  1.00000  0.41347\n",
      "m  0.16259 -0.02441  0.27300  0.41347  1.00000\n",
      "[1] \"--------------------------------------------------------\"\n"
     ]
    }
   ],
   "source": [
    "# calcualte correlation of different variables of each city for house \n",
    "# some house lists do not have land size value due to missing dimension\n",
    "# Therefore, after layers of filtering, the total list count is smaller than the real total list count\n",
    "Array=unique(Data$City, incomparables = FALSE)\n",
    "n=length(Array)\n",
    "for(i in 1:n ){\n",
    "  A = Array[i]\n",
    "\n",
    "  Subset_Data<- filter(Data, Data$Floor_size>0 & !is.na(Data$Floor_size) )\n",
    "  Subset_Data<- filter(Subset_Data,  !is.na(Subset_Data$Landsize))\n",
    "  Subset_Data<- filter(Subset_Data,  !is.na(Subset_Data$Bedroom_qty))\n",
    "  Subset_Data<- filter(Subset_Data,  !is.na(Subset_Data$Bathroom_qty))\n",
    "  Subset_Data<- filter(Subset_Data,  !is.na(Subset_Data$Landsize))  \n",
    "  Subset_Data<- filter(Subset_Data,  Subset_Data$List_type=='House')\n",
    "  Subset_Data<- filter(Subset_Data,  Subset_Data$City==A)\n",
    "  \n",
    "  x=Subset_Data$Average_sf_cost- mean(Subset_Data$Average_sf_cost)  # centralize the data \n",
    "  y=Subset_Data$Bedroom_qty- mean(Subset_Data$Bedroom_qty) \n",
    "  z=Subset_Data$Bathroom_qty- mean(Subset_Data$Bathroom_qty) \n",
    "  l=Subset_Data$Floor_size- mean(Subset_Data$Floor_size) \n",
    "  m=Subset_Data$Landsize- mean(Subset_Data$Landsize) \n",
    "  \n",
    "  N=length(Subset_Data$Price)  \n",
    "  X=cbind(x,y,z,l,m)  \n",
    "  print(paste('Correlation Matrix of house; City:', A))\n",
    "  print(round(cor(X),5))\n",
    "  print('--------------------------------------------------------')\n",
    "}\n"
   ]
  },
  {
   "cell_type": "markdown",
   "id": "bb707098",
   "metadata": {},
   "source": [
    "### How to understand the results? Using the correlation matrix of Richmond as an example:\n",
    ">Between x and x, the correlation coefficiency is 1.0000. The number suggests x and x are strongly postively correlated. Of course, they are !\n",
    "\n",
    ">Between x and m, the correlation coefficiency is 0.00092. The number suggests x and m are just slightly postively correlated. __<span style=\"color:red\">This means land size\n",
    "contributes little to the average square foot price of houses in Richmond</span>__ (_pls notice: here the average square foot price is an aggregation between list\n",
    "price and floor size, not between list price and land size_). \n",
    "\n",
    "\n",
    "- __x is a centralized average square foot price vector__\n",
    "- __y is a centralized average bedroom quantity vector__\n",
    "- __z is a centralized average bathroom quantity vector__ \n",
    "- __l is a centralized average floor size vector__ \n",
    "- __m is a centralized average land size vector__ "
   ]
  },
  {
   "cell_type": "markdown",
   "id": "50d33d9c",
   "metadata": {},
   "source": [
    "[1] \"Correlation Matrix of house; City: Richmond\"\n",
    "         x        y        z        l       m\n",
    "x  1.00000 -0.19968 -0.16357 -0.07772 0.00092\n",
    "y -0.19968  1.00000  0.59397  0.52311 0.02755\n",
    "z -0.16357  0.59397  1.00000  0.71028 0.02315\n",
    "l -0.07772  0.52311  0.71028  1.00000 0.28391\n",
    "m  0.00092  0.02755  0.02315  0.28391 1.00000"
   ]
  },
  {
   "cell_type": "markdown",
   "id": "1bcb3d5a",
   "metadata": {},
   "source": [
    "### Using the correlation matrix of Vancouver as another example: \n",
    ">Between x and m, the correlation coefficiency is 0.39713, which is much bigger when compared with Richmond. This result means x and m are \n",
    "postively correlated. It suggests that the land size contribute significantly to the average square foot price of the\n",
    "houses in Vancouver. In another word, __<span style=\"color:red\">the land itself is much more valuable in Vancouver than in Richmond and contributes significantly to the average square foot price of Vancouver houses</span>__. "
   ]
  },
  {
   "cell_type": "markdown",
   "id": "72a787ff",
   "metadata": {},
   "source": [
    "[1] \"Correlation Matrix of house; City: Vancouver\"\n",
    "         x        y       z       l       m\n",
    "x  1.00000 -0.20501 0.00929 0.12361 0.39713\n",
    "y -0.20501  1.00000 0.68523 0.51877 0.12949\n",
    "z  0.00929  0.68523 1.00000 0.73558 0.39265\n",
    "l  0.12361  0.51877 0.73558 1.00000 0.67532\n",
    "m  0.39713  0.12949 0.39265 0.67532 1.00000"
   ]
  },
  {
   "cell_type": "code",
   "execution_count": 587,
   "id": "38c9776b",
   "metadata": {},
   "outputs": [
    {
     "name": "stdout",
     "output_type": "stream",
     "text": [
      "[1] \"Correlation Matrix of apartment; City: Vancouver\"\n",
      "        x       y       z       l\n",
      "x 1.00000 0.30241 0.38590 0.40166\n",
      "y 0.30241 1.00000 0.77728 0.68787\n",
      "z 0.38590 0.77728 1.00000 0.79829\n",
      "l 0.40166 0.68787 0.79829 1.00000\n",
      "[1] \"--------------------------------------------------------\"\n",
      "[1] \"Correlation Matrix of apartment; City: Langley\"\n",
      "         x        y        z        l\n",
      "x  1.00000 -0.16166 -0.07615 -0.26667\n",
      "y -0.16166  1.00000  0.58518  0.68132\n",
      "z -0.07615  0.58518  1.00000  0.63153\n",
      "l -0.26667  0.68132  0.63153  1.00000\n",
      "[1] \"--------------------------------------------------------\"\n",
      "[1] \"Correlation Matrix of apartment; City: North Vancouver\"\n",
      "        x       y       z       l\n",
      "x 1.00000 0.35419 0.44915 0.45605\n",
      "y 0.35419 1.00000 0.79046 0.74226\n",
      "z 0.44915 0.79046 1.00000 0.77357\n",
      "l 0.45605 0.74226 0.77357 1.00000\n",
      "[1] \"--------------------------------------------------------\"\n",
      "[1] \"Correlation Matrix of apartment; City: Richmond\"\n",
      "         x        y       z        l\n",
      "x  1.00000 -0.01414 0.14269 -0.05320\n",
      "y -0.01414  1.00000 0.63662  0.70737\n",
      "z  0.14269  0.63662 1.00000  0.73028\n",
      "l -0.05320  0.70737 0.73028  1.00000\n",
      "[1] \"--------------------------------------------------------\"\n",
      "[1] \"Correlation Matrix of apartment; City: Maple Ridge\"\n",
      "         x        y        z        l\n",
      "x  1.00000 -0.38656 -0.32556 -0.52796\n",
      "y -0.38656  1.00000  0.82673  0.69226\n",
      "z -0.32556  0.82673  1.00000  0.79272\n",
      "l -0.52796  0.69226  0.79272  1.00000\n",
      "[1] \"--------------------------------------------------------\"\n",
      "[1] \"Correlation Matrix of apartment; City: New Westminster\"\n",
      "         x       y       z        l\n",
      "x  1.00000 0.00086 0.08122 -0.17081\n",
      "y  0.00086 1.00000 0.70511  0.69049\n",
      "z  0.08122 0.70511 1.00000  0.63087\n",
      "l -0.17081 0.69049 0.63087  1.00000\n",
      "[1] \"--------------------------------------------------------\"\n",
      "[1] \"Correlation Matrix of apartment; City: Pitt Meadows\"\n",
      "         x        y        z        l\n",
      "x  1.00000 -0.77518 -0.72782 -0.98084\n",
      "y -0.77518  1.00000  0.91766  0.86039\n",
      "z -0.72782  0.91766  1.00000  0.80629\n",
      "l -0.98084  0.86039  0.80629  1.00000\n",
      "[1] \"--------------------------------------------------------\"\n",
      "[1] \"Correlation Matrix of apartment; City: Delta\"\n",
      "         x        y        z        l\n",
      "x  1.00000 -0.14781 -0.04687 -0.47688\n",
      "y -0.14781  1.00000  0.71254  0.56998\n",
      "z -0.04687  0.71254  1.00000  0.63876\n",
      "l -0.47688  0.56998  0.63876  1.00000\n",
      "[1] \"--------------------------------------------------------\"\n",
      "[1] \"Correlation Matrix of apartment; City: Coquitlam\"\n",
      "         x        y        z        l\n",
      "x  1.00000 -0.16786 -0.17110 -0.29834\n",
      "y -0.16786  1.00000  0.76441  0.76908\n",
      "z -0.17110  0.76441  1.00000  0.71279\n",
      "l -0.29834  0.76908  0.71279  1.00000\n",
      "[1] \"--------------------------------------------------------\"\n",
      "[1] \"Correlation Matrix of apartment; City: Burnaby\"\n",
      "         x        y       z        l\n",
      "x  1.00000 -0.08794 0.13120 -0.21008\n",
      "y -0.08794  1.00000 0.78702  0.67917\n",
      "z  0.13120  0.78702 1.00000  0.55581\n",
      "l -0.21008  0.67917 0.55581  1.00000\n",
      "[1] \"--------------------------------------------------------\"\n",
      "[1] \"Correlation Matrix of apartment; City: Bowen Island\"\n",
      "   x  y  z  l\n",
      "x NA NA NA NA\n",
      "y NA NA NA NA\n",
      "z NA NA NA NA\n",
      "l NA NA NA NA\n",
      "[1] \"--------------------------------------------------------\"\n",
      "[1] \"Correlation Matrix of apartment; City: Surrey\"\n",
      "         x        y       z        l\n",
      "x  1.00000 -0.14714 0.05086 -0.15118\n",
      "y -0.14714  1.00000 0.69331  0.64490\n",
      "z  0.05086  0.69331 1.00000  0.73708\n",
      "l -0.15118  0.64490 0.73708  1.00000\n",
      "[1] \"--------------------------------------------------------\"\n",
      "[1] \"Correlation Matrix of apartment; City: Port Moody\"\n",
      "         x        y        z        l\n",
      "x  1.00000 -0.19532 -0.16657 -0.10362\n",
      "y -0.19532  1.00000  0.89048  0.75312\n",
      "z -0.16657  0.89048  1.00000  0.73149\n",
      "l -0.10362  0.75312  0.73149  1.00000\n",
      "[1] \"--------------------------------------------------------\"\n",
      "[1] \"Correlation Matrix of apartment; City: Port Coquitlam\"\n",
      "         x        y        z        l\n",
      "x  1.00000 -0.37499 -0.29274 -0.51142\n",
      "y -0.37499  1.00000  0.75202  0.58468\n",
      "z -0.29274  0.75202  1.00000  0.68930\n",
      "l -0.51142  0.58468  0.68930  1.00000\n",
      "[1] \"--------------------------------------------------------\"\n"
     ]
    }
   ],
   "source": [
    "Array=unique(Data$City, incomparables = FALSE)\n",
    "n=length(Array)\n",
    "for(i in 1:n ){\n",
    "  A = Array[i]\n",
    "  \n",
    "  Subset_Data<- filter(Data, Data$Floor_size>0 & !is.na(Data$Floor_size) )\n",
    "  Subset_Data<- filter(Subset_Data,  !is.na(Subset_Data$Bedroom_qty))\n",
    "  Subset_Data<- filter(Subset_Data,  !is.na(Subset_Data$Bathroom_qty))\n",
    "  Subset_Data<- filter(Subset_Data,  Subset_Data$List_type=='Apt/Condo')\n",
    "  Subset_Data<- filter(Subset_Data, Subset_Data$City==A)\n",
    "  \n",
    "  x=Subset_Data$Average_sf_cost- mean(Subset_Data$Average_sf_cost)  # centralize the data \n",
    "  y=Subset_Data$Bedroom_qty- mean(Subset_Data$Bedroom_qty) \n",
    "  z=Subset_Data$Bathroom_qty- mean(Subset_Data$Bathroom_qty) \n",
    "  l=Subset_Data$Floor_size- mean(Subset_Data$Floor_size) \n",
    "  \n",
    "  N=length(Subset_Data$Price)  \n",
    "  X=cbind(x,y,z,l)  \n",
    "  print(paste('Correlation Matrix of apartment; City:', A))\n",
    "  print(round(cor(X),5))\n",
    "  print('--------------------------------------------------------')\n",
    "}"
   ]
  },
  {
   "cell_type": "markdown",
   "id": "156bd666",
   "metadata": {},
   "source": [
    "### Here we use Langley as an example:\n",
    "> Between x and l, the result is -0.26667. The number means x and l are negatively correlated. This suggests that __<span style=\"color:red\">in Langley, the bigger the apartment\n",
    "is, the cheaper each square foot is</span>__ .\n"
   ]
  },
  {
   "cell_type": "markdown",
   "id": "bec8ff32",
   "metadata": {},
   "source": [
    "[1] \"Correlation Matrix of apartment; City: Langley\"\n",
    "         x        y        z        l\n",
    "x  1.00000 -0.16166 -0.07615 -0.26667\n",
    "y -0.16166  1.00000  0.58518  0.68132\n",
    "z -0.07615  0.58518  1.00000  0.63153\n",
    "l -0.26667  0.68132  0.63153  1.00000"
   ]
  },
  {
   "cell_type": "markdown",
   "id": "44edd06e",
   "metadata": {},
   "source": [
    "### Let compare with Vancouver and Surrey\n",
    "> For vancouver, between x and l, the correlation coefficiency is 0.40166. This result means x and l are \n",
    "positively correlated. __<span style=\"color:red\">It suggests that the bigger the appartement is in Vancouver, the more expensive the average square foot is. This is the opposite situation of Langley</span>__.\n",
    "\n",
    "> For Surrey, between x and l, the correlation coefficiency is -0.15118. This means x and l are \n",
    "slightly negatively correlated. __<span style=\"color:red\">It suggests in Surrey, the smaller the apartment is, the higher the average square foot price is. This shows similarity with Langley</span>__. "
   ]
  },
  {
   "cell_type": "markdown",
   "id": "83df99a8",
   "metadata": {},
   "source": [
    "[1] \"Correlation Matrix of apartment; City: Vancouver\"\n",
    "        x       y       z       l\n",
    "x 1.00000 0.30241 0.38590 0.40166\n",
    "y 0.30241 1.00000 0.77728 0.68787\n",
    "z 0.38590 0.77728 1.00000 0.79829\n",
    "l 0.40166 0.68787 0.79829 1.00000\n",
    "\n",
    "[1] \"Correlation Matrix of apartment; City: Surrey\"\n",
    "         x        y       z        l\n",
    "x  1.00000 -0.14714 0.05086 -0.15118\n",
    "y -0.14714  1.00000 0.69331  0.64490\n",
    "z  0.05086  0.69331 1.00000  0.73708\n",
    "l -0.15118  0.64490 0.73708  1.00000\n"
   ]
  },
  {
   "cell_type": "markdown",
   "id": "5819df9a",
   "metadata": {},
   "source": [
    "### Why Bowen Island has so many \"NA\"?\n",
    "> Because Bowen Island does not have apartment lists, only house lists"
   ]
  },
  {
   "cell_type": "code",
   "execution_count": null,
   "id": "7919574e",
   "metadata": {},
   "outputs": [],
   "source": [
    "#[1] \"Correlation Matrix of apartment; City: Port Moody\"\n",
    "   x  y  z  l\n",
    "#x NA NA NA NA\n",
    "#y NA NA NA NA\n",
    "#z NA NA NA NA\n",
    "#l NA NA NA NA"
   ]
  },
  {
   "cell_type": "markdown",
   "id": "13023185",
   "metadata": {},
   "source": [
    "### Limitation of this analysis: \n",
    "- Error of Average. Average can be deceiving. For example, it was found that in the Vancouver apartment market, the bigger the unit it, the more expensive each square foot might be. This is true for the overall average situation. However, when you break down the numbers, you might find some districts in Vancouver show the same trends as Langley and Surrey, which is the smaller the unit is, the higher each square foot is. [Check my short article related to risk of aggregation][2]\n",
    "- The daatset has only one day list data. Later, I will add more data to the dataset. [Check my repo to see how I collected the data.][1]\n",
    "\n",
    "[1]:https://github.com/EvaWang2020/RealEsateDataAnalysis\n",
    "[2]:https://github.com/EvaWang2020/Analyze-real-estae-lists-using-R/blob/main/Risk%20of%20average%20and%20generalization.pdf"
   ]
  }
 ],
 "metadata": {
  "kernelspec": {
   "display_name": "R",
   "language": "R",
   "name": "ir"
  },
  "language_info": {
   "codemirror_mode": "r",
   "file_extension": ".r",
   "mimetype": "text/x-r-source",
   "name": "R",
   "pygments_lexer": "r",
   "version": "3.6.1"
  }
 },
 "nbformat": 4,
 "nbformat_minor": 5
}
