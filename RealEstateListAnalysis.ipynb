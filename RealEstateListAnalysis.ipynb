{
 "cells": [
  {
   "cell_type": "markdown",
   "id": "ea4ee459",
   "metadata": {},
   "source": [
    "## Introduction\n",
    "\n",
    "This repo explains how to use R to analyze real estate data that I scraped. The dataset has 5064 rows, covering the real estate lists from most cities in the Metro Vancouver area on Jul 20, 2021. However, the website that I used only allows to scrape at most 25 pages for each city using the start URL, so some lists from the cities are missing.\n",
    "\n",
    "To know how I scraped the data, check my another repo [RealEsatelist_scrape_clean_transform][1].\n",
    "If you want to scrape the whole list of each city in Vancouver, check [my article, which uses another website as an example][2]. However, it will not allow you to scrape land size for houses. But, it allows you to scrape list type if you change the URL format and add list type parameters inside.\n",
    "\n",
    "### Interested to see the insights found directly? Go check the highlight texts at the bottom of this notebook.\n",
    "                                                                                 \n",
    "[1]:https://github.com/EvaWang2020/RealEsateDataAnalysis\n",
    "[2]:https://evaanalytics.wixsite.com/website/post/use-scrapy-to-real-estate-data"
   ]
  },
  {
   "cell_type": "code",
   "execution_count": 8,
   "id": "f5caa7a3",
   "metadata": {
    "scrolled": true
   },
   "outputs": [
    {
     "data": {
      "text/html": [
       "<table>\n",
       "<thead><tr><th scope=col>Price</th><th scope=col>Bedroom_qty</th><th scope=col>Bathroom_qty</th><th scope=col>Floor_size</th><th scope=col>Address</th><th scope=col>City_region</th><th scope=col>City</th><th scope=col>List_type</th><th scope=col>Date</th><th scope=col>Land_width</th><th scope=col>Land_depth</th></tr></thead>\n",
       "<tbody>\n",
       "\t<tr><td>1998000                </td><td>5                      </td><td>4                      </td><td>1993                   </td><td>3465 E 50th Avenue     </td><td>Killarney              </td><td>Vancouver              </td><td>Duplex                 </td><td>7/20/2021              </td><td>50                     </td><td>108                    </td></tr>\n",
       "\t<tr><td>3200000                </td><td>5                      </td><td>2                      </td><td>1968                   </td><td>3122 W 16th Avenue     </td><td>Arbutus                </td><td>Vancouver              </td><td>House                  </td><td>7/20/2021              </td><td>50                     </td><td>150                    </td></tr>\n",
       "\t<tr><td>1049900                </td><td>2                      </td><td>2                      </td><td>1010                   </td><td>403 1230 Haro Street   </td><td>West End               </td><td>Vancouver              </td><td>Apt/Condo              </td><td>7/20/2021              </td><td>NA                     </td><td> NA                    </td></tr>\n",
       "\t<tr><td>1899000                </td><td>4                      </td><td>2                      </td><td>2080                   </td><td>107 E 58th Avenue      </td><td>South Vancouver        </td><td>Vancouver              </td><td>House                  </td><td>7/20/2021              </td><td>37                     </td><td>110                    </td></tr>\n",
       "\t<tr><td> 838000                </td><td>2                      </td><td>2                      </td><td> 828                   </td><td>104 1818 W 6th Avenue  </td><td>Kitsilano              </td><td>Vancouver              </td><td>Apt/Condo              </td><td>7/20/2021              </td><td>NA                     </td><td> NA                    </td></tr>\n",
       "\t<tr><td>1079000                </td><td>2                      </td><td>2                      </td><td> 900                   </td><td>1102 1618 Quebec Street</td><td>Mount Pleasant East    </td><td>Vancouver              </td><td>Apt/Condo              </td><td>7/20/2021              </td><td>NA                     </td><td> NA                    </td></tr>\n",
       "</tbody>\n",
       "</table>\n"
      ],
      "text/latex": [
       "\\begin{tabular}{r|lllllllllll}\n",
       " Price & Bedroom\\_qty & Bathroom\\_qty & Floor\\_size & Address & City\\_region & City & List\\_type & Date & Land\\_width & Land\\_depth\\\\\n",
       "\\hline\n",
       "\t 1998000                 & 5                       & 4                       & 1993                    & 3465 E 50th Avenue      & Killarney               & Vancouver               & Duplex                  & 7/20/2021               & 50                      & 108                    \\\\\n",
       "\t 3200000                 & 5                       & 2                       & 1968                    & 3122 W 16th Avenue      & Arbutus                 & Vancouver               & House                   & 7/20/2021               & 50                      & 150                    \\\\\n",
       "\t 1049900                 & 2                       & 2                       & 1010                    & 403 1230 Haro Street    & West End                & Vancouver               & Apt/Condo               & 7/20/2021               & NA                      &  NA                    \\\\\n",
       "\t 1899000                 & 4                       & 2                       & 2080                    & 107 E 58th Avenue       & South Vancouver         & Vancouver               & House                   & 7/20/2021               & 37                      & 110                    \\\\\n",
       "\t  838000                 & 2                       & 2                       &  828                    & 104 1818 W 6th Avenue   & Kitsilano               & Vancouver               & Apt/Condo               & 7/20/2021               & NA                      &  NA                    \\\\\n",
       "\t 1079000                 & 2                       & 2                       &  900                    & 1102 1618 Quebec Street & Mount Pleasant East     & Vancouver               & Apt/Condo               & 7/20/2021               & NA                      &  NA                    \\\\\n",
       "\\end{tabular}\n"
      ],
      "text/markdown": [
       "\n",
       "| Price | Bedroom_qty | Bathroom_qty | Floor_size | Address | City_region | City | List_type | Date | Land_width | Land_depth |\n",
       "|---|---|---|---|---|---|---|---|---|---|---|\n",
       "| 1998000                 | 5                       | 4                       | 1993                    | 3465 E 50th Avenue      | Killarney               | Vancouver               | Duplex                  | 7/20/2021               | 50                      | 108                     |\n",
       "| 3200000                 | 5                       | 2                       | 1968                    | 3122 W 16th Avenue      | Arbutus                 | Vancouver               | House                   | 7/20/2021               | 50                      | 150                     |\n",
       "| 1049900                 | 2                       | 2                       | 1010                    | 403 1230 Haro Street    | West End                | Vancouver               | Apt/Condo               | 7/20/2021               | NA                      |  NA                     |\n",
       "| 1899000                 | 4                       | 2                       | 2080                    | 107 E 58th Avenue       | South Vancouver         | Vancouver               | House                   | 7/20/2021               | 37                      | 110                     |\n",
       "|  838000                 | 2                       | 2                       |  828                    | 104 1818 W 6th Avenue   | Kitsilano               | Vancouver               | Apt/Condo               | 7/20/2021               | NA                      |  NA                     |\n",
       "| 1079000                 | 2                       | 2                       |  900                    | 1102 1618 Quebec Street | Mount Pleasant East     | Vancouver               | Apt/Condo               | 7/20/2021               | NA                      |  NA                     |\n",
       "\n"
      ],
      "text/plain": [
       "  Price   Bedroom_qty Bathroom_qty Floor_size Address                \n",
       "1 1998000 5           4            1993       3465 E 50th Avenue     \n",
       "2 3200000 5           2            1968       3122 W 16th Avenue     \n",
       "3 1049900 2           2            1010       403 1230 Haro Street   \n",
       "4 1899000 4           2            2080       107 E 58th Avenue      \n",
       "5  838000 2           2             828       104 1818 W 6th Avenue  \n",
       "6 1079000 2           2             900       1102 1618 Quebec Street\n",
       "  City_region         City      List_type Date      Land_width Land_depth\n",
       "1 Killarney           Vancouver Duplex    7/20/2021 50         108       \n",
       "2 Arbutus             Vancouver House     7/20/2021 50         150       \n",
       "3 West End            Vancouver Apt/Condo 7/20/2021 NA          NA       \n",
       "4 South Vancouver     Vancouver House     7/20/2021 37         110       \n",
       "5 Kitsilano           Vancouver Apt/Condo 7/20/2021 NA          NA       \n",
       "6 Mount Pleasant East Vancouver Apt/Condo 7/20/2021 NA          NA       "
      ]
     },
     "metadata": {},
     "output_type": "display_data"
    }
   ],
   "source": [
    "Data=read.csv(\"C://replace_with_your_path/realestatelist_totallistappend.csv\")   \n",
    "Data$Price <- as.numeric(gsub('[$,]', '', Data$Price))\n",
    "\n",
    "# below is a peak of the data structure \n",
    "head(Data)"
   ]
  },
  {
   "cell_type": "code",
   "execution_count": 9,
   "id": "5fac3603",
   "metadata": {},
   "outputs": [
    {
     "data": {
      "text/plain": [
       "     Price           Bedroom_qty      Bathroom_qty      Floor_size   \n",
       " Min.   :   84800   Min.   : 0.000   Min.   : 0.000   Min.   :    0  \n",
       " 1st Qu.:  650000   1st Qu.: 2.000   1st Qu.: 2.000   1st Qu.:  896  \n",
       " Median :  998000   Median : 3.000   Median : 2.000   Median : 1388  \n",
       " Mean   : 1431451   Mean   : 3.081   Mean   : 2.639   Mean   : 1910  \n",
       " 3rd Qu.: 1650000   3rd Qu.: 4.000   3rd Qu.: 3.000   3rd Qu.: 2391  \n",
       " Max.   :46000000   Max.   :16.000   Max.   :12.000   Max.   :86250  \n",
       "                                     NA's   :66       NA's   :61     \n",
       "                            Address                 City_region  \n",
       " 3820 64 Street                 :   2   Coquitlam West    : 185  \n",
       " 968 Riverside Drive            :   2   Willoughby Heights: 174  \n",
       " #104 530 Ninth Street          :   1   Brighouse         : 125  \n",
       " #3103 1901 Nels Nelson Crescent:   1   Langley City      : 105  \n",
       " 1 10119 River Drive            :   1   Metrotown         : 100  \n",
       " 1 1130 Ewen Avenue             :   1   Downtown New West :  98  \n",
       " (Other)                        :5055   (Other)           :4276  \n",
       "              City            List_type           Date        Land_width     \n",
       " Vancouver      : 520   Apt/Condo  :2164   7/20/2021:5063   Min.   :   0.00  \n",
       " Surrey         : 511   House      :1971                    1st Qu.:  49.00  \n",
       " Burnaby        : 501   Townhouse  : 725                    Median :  62.00  \n",
       " North Vancouver: 498   Duplex     :  80                    Mean   :  84.96  \n",
       " Richmond       : 498   Land/Lot   :  65                    3rd Qu.:  75.00  \n",
       " Coquitlam      : 493   Multifamily:  34                    Max.   :3347.00  \n",
       " (Other)        :2042   (Other)    :  24                    NA's   :3664     \n",
       "   Land_depth    \n",
       " Min.   :   0.0  \n",
       " 1st Qu.: 104.0  \n",
       " Median : 121.0  \n",
       " Mean   : 164.2  \n",
       " 3rd Qu.: 140.0  \n",
       " Max.   :9227.0  \n",
       " NA's   :3664    "
      ]
     },
     "metadata": {},
     "output_type": "display_data"
    }
   ],
   "source": [
    "# below is a summary of the data. You can see the min, max, median, quartiles of each column\n",
    "summary(Data)"
   ]
  },
  {
   "cell_type": "code",
   "execution_count": 11,
   "id": "1abd6404",
   "metadata": {},
   "outputs": [
    {
     "data": {
      "text/html": [
       "785"
      ],
      "text/latex": [
       "785"
      ],
      "text/markdown": [
       "785"
      ],
      "text/plain": [
       "[1] 785"
      ]
     },
     "metadata": {},
     "output_type": "display_data"
    }
   ],
   "source": [
    "# tranform currency string into values \n",
    "Data$Price <- as.numeric(gsub('[$,]', '', Data$Price))\n",
    "# print(Data$Price)\n",
    "\n",
    "# calculate the average price per floor square foot (sf)\n",
    "Average_sf_cost=Data$Price/Data$Floor_size\n",
    "# caluclate land size\n",
    "Landsize=(Data$Land_width)*(Data$Land_depth)\n",
    "# add them as columns to the table \n",
    "Data$Average_sf_cost <- Average_sf_cost\n",
    "Data$Landsize <- Landsize\n",
    "\n",
    "\n",
    "# calcualte the average price per floor square foot\n",
    "# Ingnore the rows with empty and zero values in column Floor_siz\n",
    "library (dplyr) \n",
    "Subset_Data<- filter(Data, Data$Floor_size>0 & !is.na(Data$Floor_size) )\n",
    "Subset_Avg_sf_price =  mean(Subset_Data$Average_sf_cost,na.rm = TRUE)\n",
    "round(Subset_Avg_sf_price)"
   ]
  },
  {
   "cell_type": "code",
   "execution_count": 12,
   "id": "72e12d55",
   "metadata": {},
   "outputs": [
    {
     "data": {
      "text/html": [
       "<table>\n",
       "<thead><tr><th scope=col>List_type</th><th scope=col>Avg_price</th><th scope=col>Max_price</th><th scope=col>Min_price</th><th scope=col>List_count</th></tr></thead>\n",
       "<tbody>\n",
       "\t<tr><td>Mfd/Mobile Home</td><td> 316           </td><td> 1175          </td><td>118            </td><td>  23           </td></tr>\n",
       "\t<tr><td>Recreational   </td><td> 526           </td><td>  526          </td><td>526            </td><td>   1           </td></tr>\n",
       "\t<tr><td>Townhouse      </td><td> 619           </td><td> 1863          </td><td>277            </td><td> 725           </td></tr>\n",
       "\t<tr><td>Multifamily    </td><td> 683           </td><td> 1605          </td><td>322            </td><td>  34           </td></tr>\n",
       "\t<tr><td>Duplex         </td><td> 784           </td><td> 1544          </td><td>351            </td><td>  80           </td></tr>\n",
       "\t<tr><td>House          </td><td> 815           </td><td>22565          </td><td>160            </td><td>1970           </td></tr>\n",
       "\t<tr><td>Apt/Condo      </td><td> 817           </td><td> 3284          </td><td>201            </td><td>2164           </td></tr>\n",
       "\t<tr><td>Land/Lot       </td><td>2386           </td><td> 5208          </td><td>533            </td><td>   4           </td></tr>\n",
       "</tbody>\n",
       "</table>\n"
      ],
      "text/latex": [
       "\\begin{tabular}{r|lllll}\n",
       " List\\_type & Avg\\_price & Max\\_price & Min\\_price & List\\_count\\\\\n",
       "\\hline\n",
       "\t Mfd/Mobile Home &  316            &  1175           & 118             &   23           \\\\\n",
       "\t Recreational    &  526            &   526           & 526             &    1           \\\\\n",
       "\t Townhouse       &  619            &  1863           & 277             &  725           \\\\\n",
       "\t Multifamily     &  683            &  1605           & 322             &   34           \\\\\n",
       "\t Duplex          &  784            &  1544           & 351             &   80           \\\\\n",
       "\t House           &  815            & 22565           & 160             & 1970           \\\\\n",
       "\t Apt/Condo       &  817            &  3284           & 201             & 2164           \\\\\n",
       "\t Land/Lot        & 2386            &  5208           & 533             &    4           \\\\\n",
       "\\end{tabular}\n"
      ],
      "text/markdown": [
       "\n",
       "| List_type | Avg_price | Max_price | Min_price | List_count |\n",
       "|---|---|---|---|---|\n",
       "| Mfd/Mobile Home |  316            |  1175           | 118             |   23            |\n",
       "| Recreational    |  526            |   526           | 526             |    1            |\n",
       "| Townhouse       |  619            |  1863           | 277             |  725            |\n",
       "| Multifamily     |  683            |  1605           | 322             |   34            |\n",
       "| Duplex          |  784            |  1544           | 351             |   80            |\n",
       "| House           |  815            | 22565           | 160             | 1970            |\n",
       "| Apt/Condo       |  817            |  3284           | 201             | 2164            |\n",
       "| Land/Lot        | 2386            |  5208           | 533             |    4            |\n",
       "\n"
      ],
      "text/plain": [
       "  List_type       Avg_price Max_price Min_price List_count\n",
       "1 Mfd/Mobile Home  316       1175     118         23      \n",
       "2 Recreational     526        526     526          1      \n",
       "3 Townhouse        619       1863     277        725      \n",
       "4 Multifamily      683       1605     322         34      \n",
       "5 Duplex           784       1544     351         80      \n",
       "6 House            815      22565     160       1970      \n",
       "7 Apt/Condo        817       3284     201       2164      \n",
       "8 Land/Lot        2386       5208     533          4      "
      ]
     },
     "metadata": {},
     "output_type": "display_data"
    }
   ],
   "source": [
    "# calculate the average floor sf price by list type\n",
    "# you can add more filters, such as setting up bedroom quantity \n",
    "library(dplyr)\n",
    "Subset_Data<- filter(Data, Data$Floor_size>0 & !is.na(Data$Floor_size) )\n",
    "# Subset_Data<- filter(Subset_Data, Subset_Data$Bedroom_qty==1)\n",
    "# Subset_Data<- filter(Subset_Data, Subset_Data$Bathroom_qty==1)  \n",
    "# Subset_Data<- filter(Subset_Data, Subset_Data$City=='Vancouver')  \n",
    "\n",
    "\n",
    "ex1 <- Subset_Data %>% \n",
    "  group_by(List_type) %>% \n",
    "  summarize(Avg_price = round(mean(Average_sf_cost,na.rm = TRUE)), \n",
    "            Max_price = round(max(Average_sf_cost,na.rm = TRUE)),\n",
    "            Min_price = round(min(Average_sf_cost,na.rm = TRUE)),\n",
    "            List_count = length(Price))\n",
    "ex1  %>%\n",
    "    arrange(Avg_price)"
   ]
  },
  {
   "cell_type": "code",
   "execution_count": 14,
   "id": "18e81983",
   "metadata": {},
   "outputs": [
    {
     "data": {
      "image/png": "[encoded data removed]",
      "text/plain": [
       "plot without title"
      ]
     },
     "metadata": {},
     "output_type": "display_data"
    }
   ],
   "source": [
    "# create a function to calculate the average sf price by the city for appartmet (Appt) list\n",
    "# you can add more filters, such as setting up bedroom quantity \n",
    "library(ggplot2)\n",
    "\n",
    "\n",
    "Subset_Data<- filter(Data, Data$Floor_size>0 & !is.na(Data$Floor_size))\n",
    "Subset_Data<- filter(Subset_Data, Subset_Data$List_type=='Apt/Condo')\n",
    "# Subset_Data<- filter(Subset_Data, Subset_Data$Bedroom_qty==1)\n",
    "# Subset_Data<- filter(Subset_Data, Subset_Data$Bathroom_qty==1)       \n",
    "    \n",
    "ex1<-Subset_Data %>% \n",
    "    group_by(City) %>% \n",
    "    summarize(Avg_price = mean(Average_sf_cost,na.rm = TRUE),List_Count = length(Price) ) \n",
    "\n",
    "options(repr.plot.width=6, repr.plot.height=4)\n",
    "ggplot(ex1, aes(y = City, x =Avg_price, Color=City,fill=City)) +\n",
    "    geom_bar(stat = \"identity\", width=0.4, show.legend = FALSE) + \n",
    "    theme_classic() + \n",
    "    #scale_x_reordered() +\n",
    "    labs(\n",
    "        y = \"City\",\n",
    "        x = \"Price (CAD)\",\n",
    "        title = paste(\n",
    "            \"Average Floor Square Foot Price\"\n",
    "     )\n",
    "    )\n"
   ]
  },
  {
   "cell_type": "code",
   "execution_count": 15,
   "id": "9105c4aa",
   "metadata": {},
   "outputs": [
    {
     "data": {
      "image/png": "[encoded data removed]",
      "text/plain": [
       "Plot with title \"Frequency of Average Square Foot Price - House\""
      ]
     },
     "metadata": {},
     "output_type": "display_data"
    }
   ],
   "source": [
    "# average price frequency of for House only\n",
    "# you can add more filters, such as setting up specific city/cities\n",
    "\n",
    "Subset_Data<- filter(Data, Data$Floor_size>0 & !is.na(Data$Floor_size) )\n",
    "Subset_Data<- filter(Subset_Data,  Subset_Data$List_type=='House')\n",
    "# Subset_Data<- filter(Subset_Data, Subset_Data$City=='Vancouver')  \n",
    "\n",
    "\n",
    "data=hist(Subset_Data$Average_sf_cost,plot=FALSE,breaks=12)  \n",
    "ymax=max(data[[2]])  # to find the max number of Y axis based on type 2 data of a vector\n",
    "options(repr.plot.width=6, repr.plot.height=4)\n",
    "plot(data[[4]],data[[2]],type='o',\n",
    "     ylab=\"Frequency / list quantity\",xlab=\"Average square foot price (CAD)\",main=\"Frequency of Average Square Foot Price - House\" ,frame.plot='TRUE',axes=FALSE,ylim=c(0,ymax+1), col=\"red\")  # ylim is the function to define the numbe limit of Y axis \n",
    "\n",
    "axis(1,data[[4]])\n",
    "axis(2)\n"
   ]
  },
  {
   "cell_type": "code",
   "execution_count": 16,
   "id": "d92df160",
   "metadata": {},
   "outputs": [
    {
     "data": {
      "image/png": "[encoded data removed]",
      "text/plain": [
       "Plot with title \"Frequency of Average Square Foot Price - Appt\""
      ]
     },
     "metadata": {},
     "output_type": "display_data"
    }
   ],
   "source": [
    "# average price frequency of for appt only\n",
    "# you can add more filters, such as setting up specific city/cities\n",
    "Subset_Data1<- filter(Data, Data$Floor_size>0 & !is.na(Data$Floor_size) )\n",
    "Subset_Data1<- filter(Subset_Data1,  Subset_Data1$List_type=='Apt/Condo')\n",
    "# Subset_Data1<- filter(Subset_Data1, Subset_Data1$City=='Vancouver')  \n",
    "\n",
    "\n",
    "data=hist(Subset_Data1$Average_sf_cost,plot=FALSE,breaks=12)  \n",
    "ymax=max(data[[2]])  # to find the max number of Y axis based on type 2 data of a vector\n",
    "options(repr.plot.width=6, repr.plot.height=4)\n",
    "plot(data[[4]],data[[2]],type='o',\n",
    "     ylab=\"Frequency / list quantity\",xlab=\"Average square foot price (CAD)\",main=\"Frequency of Average Square Foot Price - Appt\" ,frame.plot='TRUE',axes=FALSE,ylim=c(0,ymax+1),col=\"blue\")  # ylim is the function to define the numbe limit of Y axis \n",
    "\n",
    "axis(1,data[[4]])\n",
    "axis(2)"
   ]
  },
  {
   "cell_type": "code",
   "execution_count": 17,
   "id": "d3fd26c3",
   "metadata": {},
   "outputs": [
    {
     "data": {
      "image/png": "[encoded data removed]",
      "text/plain": [
       "Plot with title \"Histogram for Appt List\""
      ]
     },
     "metadata": {},
     "output_type": "display_data"
    }
   ],
   "source": [
    "# zoom in to check frequency in a smaller price range for specif areas\n",
    "# you can add more filters, such as setting up specific city regions\n",
    "Subset_Data<- filter(Data, Data$Floor_size>0 & !is.na(Data$Floor_size) )\n",
    "Subset_Data<- filter(Subset_Data,  Subset_Data$List_type=='Apt/Condo')\n",
    "# Subset_Data<- filter(Subset_Data, Subset_Data$City=='Vancouver' )\n",
    "Subset_Data<- filter(Subset_Data,  Subset_Data$City_region=='Downtown West' |  Subset_Data$City_region=='Coal Harbour' |  Subset_Data$City_region=='Cambie' | Subset_Data$City_region=='Yaletown')\n",
    "\n",
    "\n",
    "hist(Subset_Data$Average_sf_cost,\n",
    "     main=\"Histogram for Appt List\", \n",
    "     xlab=\"Average square foot price (CAD) \", \n",
    "     border=\"blue\", \n",
    "     col=\"yellow\",\n",
    "     xlim=c(500,1800),\n",
    "     las=1,\n",
    "     breaks=30 )\n"
   ]
  },
  {
   "cell_type": "code",
   "execution_count": 22,
   "id": "71655732",
   "metadata": {
    "scrolled": false
   },
   "outputs": [
    {
     "name": "stdout",
     "output_type": "stream",
     "text": [
      "[1] \"Correlation Matrix of house; City: Vancouver\"\n",
      "         x        y       z       l       m\n",
      "x  1.00000 -0.20501 0.00929 0.12361 0.39713\n",
      "y -0.20501  1.00000 0.68523 0.51877 0.12949\n",
      "z  0.00929  0.68523 1.00000 0.73558 0.39265\n",
      "l  0.12361  0.51877 0.73558 1.00000 0.67532\n",
      "m  0.39713  0.12949 0.39265 0.67532 1.00000\n",
      "[1] \"--------------------------------------------------------\"\n",
      "[1] \"Correlation Matrix of house; City: Langley\"\n",
      "         x        y        z        l        m\n",
      "x  1.00000 -0.35265 -0.37316 -0.25582  0.53029\n",
      "y -0.35265  1.00000  0.75735  0.55986  0.00751\n",
      "z -0.37316  0.75735  1.00000  0.78102 -0.05277\n",
      "l -0.25582  0.55986  0.78102  1.00000  0.15699\n",
      "m  0.53029  0.00751 -0.05277  0.15699  1.00000\n",
      "[1] \"--------------------------------------------------------\"\n",
      "[1] \"Correlation Matrix of house; City: North Vancouver\"\n",
      "         x        y        z        l       m\n",
      "x  1.00000 -0.27354 -0.31904 -0.44250 0.06243\n",
      "y -0.27354  1.00000  0.68586  0.66453 0.23762\n",
      "z -0.31904  0.68586  1.00000  0.85913 0.21338\n",
      "l -0.44250  0.66453  0.85913  1.00000 0.19083\n",
      "m  0.06243  0.23762  0.21338  0.19083 1.00000\n",
      "[1] \"--------------------------------------------------------\"\n",
      "[1] \"Correlation Matrix of house; City: Richmond\"\n",
      "         x        y        z        l       m\n",
      "x  1.00000 -0.19968 -0.16357 -0.07772 0.00092\n",
      "y -0.19968  1.00000  0.59397  0.52311 0.02755\n",
      "z -0.16357  0.59397  1.00000  0.71028 0.02315\n",
      "l -0.07772  0.52311  0.71028  1.00000 0.28391\n",
      "m  0.00092  0.02755  0.02315  0.28391 1.00000\n",
      "[1] \"--------------------------------------------------------\"\n",
      "[1] \"Correlation Matrix of house; City: Maple Ridge\"\n",
      "         x        y        z        l        m\n",
      "x  1.00000 -0.51007 -0.52485 -0.47427  0.40873\n",
      "y -0.51007  1.00000  0.73593  0.69892 -0.18175\n",
      "z -0.52485  0.73593  1.00000  0.87304 -0.10526\n",
      "l -0.47427  0.69892  0.87304  1.00000  0.03580\n",
      "m  0.40873 -0.18175 -0.10526  0.03580  1.00000\n",
      "[1] \"--------------------------------------------------------\"\n",
      "[1] \"Correlation Matrix of house; City: New Westminster\"\n",
      "         x        y        z        l        m\n",
      "x  1.00000 -0.12565 -0.37746 -0.50060  0.51586\n",
      "y -0.12565  1.00000  0.60392  0.50935  0.01086\n",
      "z -0.37746  0.60392  1.00000  0.71458 -0.16466\n",
      "l -0.50060  0.50935  0.71458  1.00000  0.11466\n",
      "m  0.51586  0.01086 -0.16466  0.11466  1.00000\n",
      "[1] \"--------------------------------------------------------\"\n",
      "[1] \"Correlation Matrix of house; City: Pitt Meadows\"\n",
      "         x        y        z        l       m\n",
      "x  1.00000 -0.71830 -0.60621 -0.74087 0.16551\n",
      "y -0.71830  1.00000  0.93495  0.86164 0.16649\n",
      "z -0.60621  0.93495  1.00000  0.75111 0.09212\n",
      "l -0.74087  0.86164  0.75111  1.00000 0.48764\n",
      "m  0.16551  0.16649  0.09212  0.48764 1.00000\n",
      "[1] \"--------------------------------------------------------\"\n",
      "[1] \"Correlation Matrix of house; City: Delta\"\n",
      "         x        y        z        l        m\n",
      "x  1.00000 -0.33267 -0.26622 -0.24558  0.50397\n",
      "y -0.33267  1.00000  0.69128  0.62662 -0.04598\n",
      "z -0.26622  0.69128  1.00000  0.83393  0.00465\n",
      "l -0.24558  0.62662  0.83393  1.00000  0.05143\n",
      "m  0.50397 -0.04598  0.00465  0.05143  1.00000\n",
      "[1] \"--------------------------------------------------------\"\n",
      "[1] \"Correlation Matrix of house; City: Coquitlam\"\n",
      "         x        y        z        l        m\n",
      "x  1.00000 -0.50350 -0.54214 -0.53287  0.12507\n",
      "y -0.50350  1.00000  0.75315  0.68239 -0.00368\n",
      "z -0.54214  0.75315  1.00000  0.86315  0.08631\n",
      "l -0.53287  0.68239  0.86315  1.00000  0.11066\n",
      "m  0.12507 -0.00368  0.08631  0.11066  1.00000\n",
      "[1] \"--------------------------------------------------------\"\n",
      "[1] \"Correlation Matrix of house; City: Burnaby\"\n",
      "         x        y        z        l        m\n",
      "x  1.00000 -0.46694 -0.35172 -0.60439 -0.10395\n",
      "y -0.46694  1.00000  0.75532  0.72696  0.09274\n",
      "z -0.35172  0.75532  1.00000  0.76423  0.04030\n",
      "l -0.60439  0.72696  0.76423  1.00000  0.20517\n",
      "m -0.10395  0.09274  0.04030  0.20517  1.00000\n",
      "[1] \"--------------------------------------------------------\"\n",
      "[1] \"Correlation Matrix of house; City: Bowen Island\"\n",
      "         x        y        z        l       m\n",
      "x  1.00000 -0.15856 -0.47378 -0.27322 0.16572\n",
      "y -0.15856  1.00000  0.67791  0.65559 0.18987\n",
      "z -0.47378  0.67791  1.00000  0.92264 0.52497\n",
      "l -0.27322  0.65559  0.92264  1.00000 0.74791\n",
      "m  0.16572  0.18987  0.52497  0.74791 1.00000\n",
      "[1] \"--------------------------------------------------------\"\n",
      "[1] \"Correlation Matrix of house; City: Surrey\"\n",
      "         x        y        z        l        m\n",
      "x  1.00000 -0.33105 -0.31422 -0.22596  0.59243\n",
      "y -0.33105  1.00000  0.83104  0.71978 -0.04084\n",
      "z -0.31422  0.83104  1.00000  0.84204  0.01143\n",
      "l -0.22596  0.71978  0.84204  1.00000  0.20537\n",
      "m  0.59243 -0.04084  0.01143  0.20537  1.00000\n",
      "[1] \"--------------------------------------------------------\"\n",
      "[1] \"Correlation Matrix of house; City: Port Moody\"\n",
      "         x        y        z        l        m\n",
      "x  1.00000 -0.34644 -0.40240 -0.36729  0.15121\n",
      "y -0.34644  1.00000  0.56347  0.46071  0.12263\n",
      "z -0.40240  0.56347  1.00000  0.86957 -0.04429\n",
      "l -0.36729  0.46071  0.86957  1.00000 -0.04644\n",
      "m  0.15121  0.12263 -0.04429 -0.04644  1.00000\n",
      "[1] \"--------------------------------------------------------\"\n",
      "[1] \"Correlation Matrix of house; City: Port Coquitlam\"\n",
      "         x        y        z        l        m\n",
      "x  1.00000 -0.56148 -0.52763 -0.56012  0.16259\n",
      "y -0.56148  1.00000  0.79705  0.74018 -0.02441\n",
      "z -0.52763  0.79705  1.00000  0.86535  0.27300\n",
      "l -0.56012  0.74018  0.86535  1.00000  0.41347\n",
      "m  0.16259 -0.02441  0.27300  0.41347  1.00000\n",
      "[1] \"--------------------------------------------------------\"\n"
     ]
    }
   ],
   "source": [
    "# calcualte correlation of different variables of each city for house \n",
    "# some house lists do not have land size value due to missing dimension\n",
    "# Therefore, after layers of filtering, the total list count is smaller than the real total list count\n",
    "Array=unique(Data$City, incomparables = FALSE)\n",
    "n=length(Array)\n",
    "for(i in 1:n ){\n",
    "  A = Array[i]\n",
    "\n",
    "  Subset_Data<- filter(Data, Data$Floor_size>0 & !is.na(Data$Floor_size) )\n",
    "  Subset_Data<- filter(Subset_Data,  !is.na(Subset_Data$Landsize))\n",
    "  Subset_Data<- filter(Subset_Data,  !is.na(Subset_Data$Bedroom_qty))\n",
    "  Subset_Data<- filter(Subset_Data,  !is.na(Subset_Data$Bathroom_qty))\n",
    "  Subset_Data<- filter(Subset_Data,  !is.na(Subset_Data$Landsize))  \n",
    "  Subset_Data<- filter(Subset_Data,  Subset_Data$List_type=='House')\n",
    "  Subset_Data<- filter(Subset_Data,  Subset_Data$City==A)\n",
    "  \n",
    "  x=Subset_Data$Average_sf_cost\n",
    "  y=Subset_Data$Bedroom_qty\n",
    "  z=Subset_Data$Bathroom_qty\n",
    "  l=Subset_Data$Floor_size\n",
    "  m=Subset_Data$Landsize\n",
    "   \n",
    "  X=cbind(x,y,z,l,m)  \n",
    "  print(paste('Correlation Matrix of house; City:', A))\n",
    "  print(round(cor(X),5))\n",
    "  print('--------------------------------------------------------')\n",
    "}\n"
   ]
  },
  {
   "cell_type": "markdown",
   "id": "a71f2880",
   "metadata": {},
   "source": [
    "### How to understand the results? Using the correlation matrix of Richmond as an example:\n",
    ">Between x and x, the correlation coefficient is 1.0000. The number suggests x and x are strongly postively correlated. Of course, they are !\n",
    "\n",
    ">Between x and m, the correlation coefficient is 0.00092. The number suggests x and m are just slightly postively correlated. __<span style=\"color:red\">This means land size\n",
    "contributes little to the average square foot price of houses in Richmond</span>__ (_pls notice: here the average square foot price is an aggregation between list\n",
    "price and floor size, not between list price and land size_). \n",
    "\n",
    "\n",
    "- __x is a centralized average square foot price vector__\n",
    "- __y is a centralized average bedroom quantity vector__\n",
    "- __z is a centralized average bathroom quantity vector__ \n",
    "- __l is a centralized average floor size vector__ \n",
    "- __m is a centralized average land size vector__ "
   ]
  },
  {
   "cell_type": "markdown",
   "id": "0b1c89e4",
   "metadata": {},
   "source": [
    "[1] \"Correlation Matrix of house; City: Richmond\"\n",
    "         x        y        z        l       m\n",
    "x  1.00000 -0.19968 -0.16357 -0.07772 0.00092\n",
    "y -0.19968  1.00000  0.59397  0.52311 0.02755\n",
    "z -0.16357  0.59397  1.00000  0.71028 0.02315\n",
    "l -0.07772  0.52311  0.71028  1.00000 0.28391\n",
    "m  0.00092  0.02755  0.02315  0.28391 1.00000"
   ]
  },
  {
   "cell_type": "markdown",
   "id": "212cb275",
   "metadata": {},
   "source": [
    "### Using the correlation matrix of Vancouver as another example: \n",
    ">Between x and m, the correlation coefficient is 0.39713, which is much bigger when compared with Richmond. This result means x and m are \n",
    "postively correlated. It suggests that the land size contribute significantly to the average square foot price of the\n",
    "houses in Vancouver. In another word, __<span style=\"color:red\">the land itself is much more valuable in Vancouver than in Richmond and contributes significantly to the average square foot price of Vancouver houses</span>__. "
   ]
  },
  {
   "cell_type": "markdown",
   "id": "94cb8c48",
   "metadata": {},
   "source": [
    "[1] \"Correlation Matrix of house; City: Vancouver\"\n",
    "         x        y       z       l       m\n",
    "x  1.00000 -0.20501 0.00929 0.12361 0.39713\n",
    "y -0.20501  1.00000 0.68523 0.51877 0.12949\n",
    "z  0.00929  0.68523 1.00000 0.73558 0.39265\n",
    "l  0.12361  0.51877 0.73558 1.00000 0.67532\n",
    "m  0.39713  0.12949 0.39265 0.67532 1.00000"
   ]
  },
  {
   "cell_type": "code",
   "execution_count": 21,
   "id": "b6412451",
   "metadata": {},
   "outputs": [
    {
     "name": "stdout",
     "output_type": "stream",
     "text": [
      "[1] \"Correlation Matrix of apartment; City: Vancouver\"\n",
      "        x       y       z       l\n",
      "x 1.00000 0.30241 0.38590 0.40166\n",
      "y 0.30241 1.00000 0.77728 0.68787\n",
      "z 0.38590 0.77728 1.00000 0.79829\n",
      "l 0.40166 0.68787 0.79829 1.00000\n",
      "[1] \"--------------------------------------------------------\"\n",
      "[1] \"Correlation Matrix of apartment; City: Langley\"\n",
      "         x        y        z        l\n",
      "x  1.00000 -0.16166 -0.07615 -0.26667\n",
      "y -0.16166  1.00000  0.58518  0.68132\n",
      "z -0.07615  0.58518  1.00000  0.63153\n",
      "l -0.26667  0.68132  0.63153  1.00000\n",
      "[1] \"--------------------------------------------------------\"\n",
      "[1] \"Correlation Matrix of apartment; City: North Vancouver\"\n",
      "        x       y       z       l\n",
      "x 1.00000 0.35419 0.44915 0.45605\n",
      "y 0.35419 1.00000 0.79046 0.74226\n",
      "z 0.44915 0.79046 1.00000 0.77357\n",
      "l 0.45605 0.74226 0.77357 1.00000\n",
      "[1] \"--------------------------------------------------------\"\n",
      "[1] \"Correlation Matrix of apartment; City: Richmond\"\n",
      "         x        y       z        l\n",
      "x  1.00000 -0.01414 0.14269 -0.05320\n",
      "y -0.01414  1.00000 0.63662  0.70737\n",
      "z  0.14269  0.63662 1.00000  0.73028\n",
      "l -0.05320  0.70737 0.73028  1.00000\n",
      "[1] \"--------------------------------------------------------\"\n",
      "[1] \"Correlation Matrix of apartment; City: Maple Ridge\"\n",
      "         x        y        z        l\n",
      "x  1.00000 -0.38656 -0.32556 -0.52796\n",
      "y -0.38656  1.00000  0.82673  0.69226\n",
      "z -0.32556  0.82673  1.00000  0.79272\n",
      "l -0.52796  0.69226  0.79272  1.00000\n",
      "[1] \"--------------------------------------------------------\"\n",
      "[1] \"Correlation Matrix of apartment; City: New Westminster\"\n",
      "         x       y       z        l\n",
      "x  1.00000 0.00086 0.08122 -0.17081\n",
      "y  0.00086 1.00000 0.70511  0.69049\n",
      "z  0.08122 0.70511 1.00000  0.63087\n",
      "l -0.17081 0.69049 0.63087  1.00000\n",
      "[1] \"--------------------------------------------------------\"\n",
      "[1] \"Correlation Matrix of apartment; City: Pitt Meadows\"\n",
      "         x        y        z        l\n",
      "x  1.00000 -0.77518 -0.72782 -0.98084\n",
      "y -0.77518  1.00000  0.91766  0.86039\n",
      "z -0.72782  0.91766  1.00000  0.80629\n",
      "l -0.98084  0.86039  0.80629  1.00000\n",
      "[1] \"--------------------------------------------------------\"\n",
      "[1] \"Correlation Matrix of apartment; City: Delta\"\n",
      "         x        y        z        l\n",
      "x  1.00000 -0.14781 -0.04687 -0.47688\n",
      "y -0.14781  1.00000  0.71254  0.56998\n",
      "z -0.04687  0.71254  1.00000  0.63876\n",
      "l -0.47688  0.56998  0.63876  1.00000\n",
      "[1] \"--------------------------------------------------------\"\n",
      "[1] \"Correlation Matrix of apartment; City: Coquitlam\"\n",
      "         x        y        z        l\n",
      "x  1.00000 -0.16786 -0.17110 -0.29834\n",
      "y -0.16786  1.00000  0.76441  0.76908\n",
      "z -0.17110  0.76441  1.00000  0.71279\n",
      "l -0.29834  0.76908  0.71279  1.00000\n",
      "[1] \"--------------------------------------------------------\"\n",
      "[1] \"Correlation Matrix of apartment; City: Burnaby\"\n",
      "         x        y       z        l\n",
      "x  1.00000 -0.08794 0.13120 -0.21008\n",
      "y -0.08794  1.00000 0.78702  0.67917\n",
      "z  0.13120  0.78702 1.00000  0.55581\n",
      "l -0.21008  0.67917 0.55581  1.00000\n",
      "[1] \"--------------------------------------------------------\"\n",
      "[1] \"Correlation Matrix of apartment; City: Bowen Island\"\n",
      "   x  y  z  l\n",
      "x NA NA NA NA\n",
      "y NA NA NA NA\n",
      "z NA NA NA NA\n",
      "l NA NA NA NA\n",
      "[1] \"--------------------------------------------------------\"\n",
      "[1] \"Correlation Matrix of apartment; City: Surrey\"\n",
      "         x        y       z        l\n",
      "x  1.00000 -0.14714 0.05086 -0.15118\n",
      "y -0.14714  1.00000 0.69331  0.64490\n",
      "z  0.05086  0.69331 1.00000  0.73708\n",
      "l -0.15118  0.64490 0.73708  1.00000\n",
      "[1] \"--------------------------------------------------------\"\n",
      "[1] \"Correlation Matrix of apartment; City: Port Moody\"\n",
      "         x        y        z        l\n",
      "x  1.00000 -0.19532 -0.16657 -0.10362\n",
      "y -0.19532  1.00000  0.89048  0.75312\n",
      "z -0.16657  0.89048  1.00000  0.73149\n",
      "l -0.10362  0.75312  0.73149  1.00000\n",
      "[1] \"--------------------------------------------------------\"\n",
      "[1] \"Correlation Matrix of apartment; City: Port Coquitlam\"\n",
      "         x        y        z        l\n",
      "x  1.00000 -0.37499 -0.29274 -0.51142\n",
      "y -0.37499  1.00000  0.75202  0.58468\n",
      "z -0.29274  0.75202  1.00000  0.68930\n",
      "l -0.51142  0.58468  0.68930  1.00000\n",
      "[1] \"--------------------------------------------------------\"\n"
     ]
    }
   ],
   "source": [
    "Array=unique(Data$City, incomparables = FALSE)\n",
    "n=length(Array)\n",
    "for(i in 1:n ){\n",
    "  A = Array[i]\n",
    "  \n",
    "  Subset_Data<- filter(Data, Data$Floor_size>0 & !is.na(Data$Floor_size) )\n",
    "  Subset_Data<- filter(Subset_Data,  !is.na(Subset_Data$Bedroom_qty))\n",
    "  Subset_Data<- filter(Subset_Data,  !is.na(Subset_Data$Bathroom_qty))\n",
    "  Subset_Data<- filter(Subset_Data,  Subset_Data$List_type=='Apt/Condo')\n",
    "  Subset_Data<- filter(Subset_Data, Subset_Data$City==A)\n",
    "  \n",
    "  x=Subset_Data$Average_sf_cost\n",
    "  y=Subset_Data$Bedroom_qty\n",
    "  z=Subset_Data$Bathroom_qty\n",
    "  l=Subset_Data$Floor_size\n",
    "   \n",
    "  X=cbind(x,y,z,l)  \n",
    "  print(paste('Correlation Matrix of apartment; City:', A))\n",
    "  print(round(cor(X),5))\n",
    "  print('--------------------------------------------------------')\n",
    "}"
   ]
  },
  {
   "cell_type": "markdown",
   "id": "69f0262e",
   "metadata": {},
   "source": [
    "### Here we use Langley as an example:\n",
    "> Between x and l, the correlation coefficient is -0.26667. The number means x and l are negatively correlated. This suggests that __<span style=\"color:red\">in Langley, the bigger the apartment\n",
    "is, the cheaper each square foot is</span>__ .\n"
   ]
  },
  {
   "cell_type": "code",
   "execution_count": null,
   "id": "7b2c05c0",
   "metadata": {},
   "outputs": [],
   "source": [
    "[1] \"Correlation Matrix of apartment; City: Langley\"\n",
    "         x        y        z        l\n",
    "x  1.00000 -0.16166 -0.07615 -0.26667\n",
    "y -0.16166  1.00000  0.58518  0.68132\n",
    "z -0.07615  0.58518  1.00000  0.63153\n",
    "l -0.26667  0.68132  0.63153  1.00000"
   ]
  },
  {
   "cell_type": "markdown",
   "id": "107a205c",
   "metadata": {},
   "source": [
    "### Let compare with Vancouver and Surrey\n",
    "> For vancouver, between x and l, the correlation coefficient is 0.40166. This result means x and l are \n",
    "positively correlated. __<span style=\"color:red\">It suggests that the bigger the appartement is in Vancouver, the more expensive the average square foot is. This is the opposite situation of Langley</span>__.\n",
    "\n",
    "> For Surrey, between x and l, the correlation coefficient is -0.15118. This means x and l are \n",
    "slightly negatively correlated. __<span style=\"color:red\">It suggests in Surrey, the smaller the apartment is, the higher the average square foot price is. This shows similarity with Langley</span>__. "
   ]
  },
  {
   "cell_type": "code",
   "execution_count": null,
   "id": "436dd486",
   "metadata": {},
   "outputs": [],
   "source": [
    "[1] \"Correlation Matrix of apartment; City: Vancouver\"\n",
    "        x       y       z       l\n",
    "x 1.00000 0.30241 0.38590 0.40166\n",
    "y 0.30241 1.00000 0.77728 0.68787\n",
    "z 0.38590 0.77728 1.00000 0.79829\n",
    "l 0.40166 0.68787 0.79829 1.00000\n",
    "\n",
    "[1] \"Correlation Matrix of apartment; City: Surrey\"\n",
    "         x        y       z        l\n",
    "x  1.00000 -0.14714 0.05086 -0.15118\n",
    "y -0.14714  1.00000 0.69331  0.64490\n",
    "z  0.05086  0.69331 1.00000  0.73708\n",
    "l -0.15118  0.64490 0.73708  1.00000\n"
   ]
  },
  {
   "cell_type": "markdown",
   "id": "d43f1347",
   "metadata": {},
   "source": [
    "### Why Bowen Island has so many \"NA\"?\n",
    "> Because Bowen Island does not have apartment lists, only house lists"
   ]
  },
  {
   "cell_type": "code",
   "execution_count": null,
   "id": "e6f03218",
   "metadata": {},
   "outputs": [],
   "source": [
    "#[1] \"Correlation Matrix of apartment; City: Port Moody\"\n",
    "   x  y  z  l\n",
    "#x NA NA NA NA\n",
    "#y NA NA NA NA\n",
    "#z NA NA NA NA\n",
    "#l NA NA NA NA"
   ]
  },
  {
   "cell_type": "markdown",
   "id": "c1dee144",
   "metadata": {},
   "source": [
    "### Limitation of this analysis: \n",
    "- Error of Average. Average can be deceiving. For example, it was found that in the Vancouver apartment market, the bigger the unit it, the more expensive each square foot might be. This is true for the overall average situation. However, when you break down the numbers, you might find some districts in Vancouver show the same trends as Langley and Surrey, which is the smaller the unit is, the higher each square foot is. [Check my short article related to risk of aggregation][2]\n",
    "- The daatset has only one day list data. Later, I will add more data to the dataset. [Check my repo to see how I collected the data.][1]\n",
    "- the website that I used only allows to scrape at most 25 pages for each city using the start URL, so some lists from the cities are missing. If you want to scrape the whole list of each city in Vancouver, check [my article, which uses another website as an example][3]. However, it will not allow you to scrape land size for houses. But, it allows you to scrape list type if you change the URL format and add list type parameters inside.\n",
    "[1]:https://github.com/EvaWang2020/RealEsateDataAnalysis\n",
    "[2]:https://github.com/EvaWang2020/Analyze-real-estae-lists-using-R/blob/main/Risk%20of%20average%20and%20generalization.pdf\n",
    "[3]:https://evaanalytics.wixsite.com/website/post/use-scrapy-to-real-estate-data"
   ]
  }
 ],
 "metadata": {
  "kernelspec": {
   "display_name": "R",
   "language": "R",
   "name": "ir"
  },
  "language_info": {
   "codemirror_mode": "r",
   "file_extension": ".r",
   "mimetype": "text/x-r-source",
   "name": "R",
   "pygments_lexer": "r",
   "version": "3.6.1"
  }
 },
 "nbformat": 4,
 "nbformat_minor": 5
}
